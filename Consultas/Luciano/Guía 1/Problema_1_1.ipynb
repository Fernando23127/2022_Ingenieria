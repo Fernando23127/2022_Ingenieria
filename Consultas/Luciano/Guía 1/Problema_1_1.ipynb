{
 "cells": [
  {
   "cell_type": "markdown",
   "id": "6de7f1c7-bc7d-4374-b914-42dad4516e4e",
   "metadata": {},
   "source": [
    "$$ \\LARGE\n",
    "\\underline{\\textbf{Problema 1}}\n",
    "$$"
   ]
  },
  {
   "cell_type": "markdown",
   "id": "bd6ae09b-a314-4ac9-a3d8-fa32eb7f4330",
   "metadata": {},
   "source": [
    "Se tiene una placa cuadrada de aluminio cuyos bordes están en las condiciones que se indican en la\n",
    "figura: tres lados a temperaturas fijas y otro, el inferior, aislado térmicamente (flujo de calor igual a\n",
    "cero). Encuentre, utilizando el método de diferencias finitas, los valores de temperatura y flujo de\n",
    "calor para cada punto. Utilice primero la grilla señalada y luego generalice el problema a un número\n",
    "variable de nodos en cada eje de coordenadas. Haga un estudio del tiempo de cálculo en función del\n",
    "tamaño del sistema."
   ]
  },
  {
   "cell_type": "code",
   "execution_count": 1,
   "id": "e9c5d734-efd3-4b3b-a841-99213e31d1cd",
   "metadata": {},
   "outputs": [],
   "source": [
    "import numpy as np\n",
    "import matplotlib.pyplot as plt\n",
    "import time"
   ]
  },
  {
   "cell_type": "markdown",
   "id": "27065218-878c-4bd1-8482-4a83e1a91e7e",
   "metadata": {},
   "source": [
    "$$\n",
    "$$"
   ]
  },
  {
   "cell_type": "markdown",
   "id": "052ea627-9ca2-4c4e-be3e-be1027cd1058",
   "metadata": {},
   "source": [
    "$$ \\LARGE\n",
    "\\underline{\\textbf{Problema 1 versión chapa}}\n",
    "$$"
   ]
  },
  {
   "cell_type": "code",
   "execution_count": 2,
   "id": "af8efd32-57bd-40cb-8706-da20468600d0",
   "metadata": {},
   "outputs": [],
   "source": [
    "class Chapa:\n",
    "    def __init__(self, nx, ny=None):\n",
    "        self.nx = nx\n",
    "        if ny is None:\n",
    "            self.ny = nx\n",
    "        else:\n",
    "            self.ny = ny\n",
    "        self.nk = self.nx * self.ny\n",
    "\n",
    "    # entonces tendrías un método de definir la matriz:\n",
    "    def makematriz(self, Ta, Tb, Tc, Td):\n",
    "        beta = self.nx/self.ny\n",
    "        b = np.zeros([self.nx*self.ny, 1])  # Conviene que sea de ceros\n",
    "        M = np.eye(self.nx*self.ny)\n",
    "        nx = self.nx\n",
    "        ny = self.ny\n",
    "        for k in range(self.nk):\n",
    "            if k == 0:\n",
    "                b[k] = (Ta+Tb)/2\n",
    "            elif k == (nx-1):\n",
    "                b[k] = (Tc+Tb)/2\n",
    "            elif k == nx*ny-nx:\n",
    "                b[k] = (Ta+Td)/2\n",
    "            elif k == nx*ny-1:\n",
    "                b[k] = (Tc+Td)/2\n",
    "            elif k < nx-1:\n",
    "                b[k] = Tb\n",
    "            elif k > nx*ny-1-nx:\n",
    "                b[k] = Td\n",
    "            elif k % nx == 0:\n",
    "                b[k] = Ta\n",
    "            elif (k+1) % nx == 0:  # si no pongo parentesis da mal\n",
    "                b[k] = Tc\n",
    "            else:\n",
    "                M[k, k] = -2*(1+beta**2)\n",
    "                M[k, k-1] = 1\n",
    "                M[k, k+1] = 1\n",
    "                M[k, k-nx] = beta**2\n",
    "                M[k, k+nx] = beta**2\n",
    "        return M, b\n",
    "\n",
    "    # y un método de solución:\n",
    "    def solve(self, M, b):\n",
    "        T = np.linalg.solve(M, b)\n",
    "        T_matriz = T.reshape(self.nx, self.ny)\n",
    "        T_matriz = T_matriz[::-1]\n",
    "        return T_matriz"
   ]
  },
  {
   "cell_type": "code",
   "execution_count": 3,
   "id": "529b9056-5e42-4fb4-b320-8632f106b2c2",
   "metadata": {},
   "outputs": [],
   "source": [
    "Ta, Tb, Tc, Td = (75, 0, 50, 100)\n",
    "\n",
    "lachapa = Chapa(10)"
   ]
  },
  {
   "cell_type": "code",
   "execution_count": 4,
   "id": "2e7b725f-ab7e-484c-9718-e506196b3046",
   "metadata": {},
   "outputs": [],
   "source": [
    "M_2, b_2 = lachapa.makematriz(Ta, Tb, Tc, Td)"
   ]
  },
  {
   "cell_type": "code",
   "execution_count": 5,
   "id": "284b89e8-a551-4b58-ae2a-52e84430442d",
   "metadata": {},
   "outputs": [],
   "source": [
    "T_matriz_2 = lachapa.solve(M_2, b_2)"
   ]
  },
  {
   "cell_type": "code",
   "execution_count": 6,
   "id": "f2cfa220-f1c4-43ae-b288-218b66438f9a",
   "metadata": {},
   "outputs": [
    {
     "data": {
      "text/plain": [
       "Text(0, 0.5, ' j ')"
      ]
     },
     "execution_count": 6,
     "metadata": {},
     "output_type": "execute_result"
    },
    {
     "data": {
      "image/png": "[encoded data removed]",
      "text/plain": [
       "<Figure size 1080x576 with 2 Axes>"
      ]
     },
     "metadata": {
      "needs_background": "light"
     },
     "output_type": "display_data"
    }
   ],
   "source": [
    "plt.rc('figure', figsize=(15,8))\n",
    "plt.rc('font', size=22)\n",
    "mapable = plt.imshow(T_matriz_2)\n",
    "cbar = plt.colorbar(mapable)\n",
    "cbar.set_label('T(ºC)')\n",
    "plt.xlabel(' i ')\n",
    "plt.ylabel(' j ')"
   ]
  },
  {
   "cell_type": "code",
   "execution_count": 7,
   "id": "b38e0b42-1c04-4d07-8ec9-51e254c604ce",
   "metadata": {},
   "outputs": [],
   "source": [
    "ns = np.logspace(1, 2, 10).astype(int)"
   ]
  },
  {
   "cell_type": "markdown",
   "id": "31ddc141-958f-4a0a-9087-448f3cfb8b6f",
   "metadata": {},
   "source": [
    "$$\n",
    "$$"
   ]
  },
  {
   "cell_type": "markdown",
   "id": "4d805f64-27bf-479e-b4d9-3e8d8e0570bd",
   "metadata": {},
   "source": [
    "$ \\Large\n",
    "\\textbf{Determino el tiempo de calculo del sistema en función de la resolución de la grilla}\n",
    "$"
   ]
  },
  {
   "cell_type": "code",
   "execution_count": 8,
   "id": "140e3a94-a6c2-46af-9851-94e156c5e21f",
   "metadata": {},
   "outputs": [],
   "source": [
    "dts = []\n",
    "for ni in ns:\n",
    "    thischapa = Chapa(ni)\n",
    "    M, b = thischapa.makematriz(Ta, Tb, Tc, Td)\n",
    "    t1 = time.time()\n",
    "    thischapa.solve(M, b)\n",
    "    t2 = time.time()\n",
    "    dts.append(t2-t1)"
   ]
  },
  {
   "cell_type": "code",
   "execution_count": 9,
   "id": "20111f5c-eaf7-494a-bb8e-3243037c30bb",
   "metadata": {},
   "outputs": [
    {
     "data": {
      "text/plain": [
       "[0.0,\n",
       " 0.0,\n",
       " 0.004003286361694336,\n",
       " 0.002986907958984375,\n",
       " 0.007924556732177734,\n",
       " 0.02800464630126953,\n",
       " 0.0970008373260498,\n",
       " 0.4139981269836426,\n",
       " 1.5059988498687744,\n",
       " 5.6831583976745605]"
      ]
     },
     "execution_count": 9,
     "metadata": {},
     "output_type": "execute_result"
    }
   ],
   "source": [
    "dts"
   ]
  },
  {
   "cell_type": "markdown",
   "id": "3c9d05db-06c4-419d-b279-5fd5d5bedf7e",
   "metadata": {},
   "source": [
    "Ahora hay que ver el escaleo. Esto tiene que seguir una ley $dt = Nx^p$ , donde $p$ viene dado por el conteo de operaciones en la triangulación de gauss."
   ]
  },
  {
   "cell_type": "markdown",
   "id": "707323a9-ff1a-4394-b3f5-8b68575f7c0a",
   "metadata": {},
   "source": [
    "$$\n",
    "log{(dt)}=p \\cdot log(x)+log(N)\n",
    "$$"
   ]
  },
  {
   "cell_type": "code",
   "execution_count": 10,
   "id": "fa576b6e-a9b7-4c67-a762-4f0e5a79ac3f",
   "metadata": {},
   "outputs": [],
   "source": [
    "model = np.polyfit(np.log10(ns[2:]), np.log10(dts[2:]), 1)"
   ]
  },
  {
   "cell_type": "markdown",
   "id": "bf2bf867-a00a-4449-a3a9-9ad33b25cc9e",
   "metadata": {},
   "source": [
    "No considero los dos puntos porque a veces en dts son 0 y estamos calculando el logaritmo"
   ]
  },
  {
   "cell_type": "code",
   "execution_count": 11,
   "id": "972ad52b-23a5-4a45-bc56-9d43bad8e7b1",
   "metadata": {},
   "outputs": [
    {
     "data": {
      "text/plain": [
       "array([ 4.3287796 , -8.06787808])"
      ]
     },
     "execution_count": 11,
     "metadata": {},
     "output_type": "execute_result"
    }
   ],
   "source": [
    "model"
   ]
  },
  {
   "cell_type": "markdown",
   "id": "85c83e1a-c708-4baa-b58f-563b4cc0ca70",
   "metadata": {},
   "source": [
    "polyfit resuelve el polinomio devolviendo los valores de $p$ y de $log(N)$"
   ]
  },
  {
   "cell_type": "markdown",
   "id": "f2420a6e-91e8-44e5-9a49-81591ae0290d",
   "metadata": {},
   "source": [
    "resulta que:"
   ]
  },
  {
   "cell_type": "markdown",
   "id": "c9dec2b4-9fd1-41e9-a12d-9dcb848b0da3",
   "metadata": {},
   "source": [
    "$p\\ =\\ model[0]$"
   ]
  },
  {
   "cell_type": "markdown",
   "id": "bae92109-78f1-4c0d-b3e0-7b24dd561328",
   "metadata": {},
   "source": [
    "$ \\large\n",
    "Creo\\ una\\ función\\ de\\ 1^{er}\\ orden\\ con\\ las\\ constantes\\ obtenidas\n",
    "$"
   ]
  },
  {
   "cell_type": "code",
   "execution_count": 12,
   "id": "44f33034-0400-4793-9f90-68c5ded50f26",
   "metadata": {},
   "outputs": [],
   "source": [
    "function = np.poly1d(model)"
   ]
  },
  {
   "cell_type": "code",
   "execution_count": 13,
   "id": "2007838e-33e8-409a-a869-dfbcd8b29136",
   "metadata": {},
   "outputs": [
    {
     "data": {
      "text/plain": [
       "poly1d([ 4.3287796 , -8.06787808])"
      ]
     },
     "execution_count": 13,
     "metadata": {},
     "output_type": "execute_result"
    }
   ],
   "source": [
    "function"
   ]
  },
  {
   "cell_type": "code",
   "execution_count": 14,
   "id": "f3034c63-47b1-4993-95a9-31e1171a09c6",
   "metadata": {},
   "outputs": [
    {
     "data": {
      "text/plain": [
       "<matplotlib.legend.Legend at 0x22e04d22f40>"
      ]
     },
     "execution_count": 14,
     "metadata": {},
     "output_type": "execute_result"
    },
    {
     "data": {
      "image/png": "[encoded data removed]",
      "text/plain": [
       "<Figure size 1080x576 with 1 Axes>"
      ]
     },
     "metadata": {
      "needs_background": "light"
     },
     "output_type": "display_data"
    }
   ],
   "source": [
    "plt.plot(np.log10(ns[2:]), np.log10(dts[2:]), 'o', label='Measurements')  # \n",
    "plt.plot(np.log10(ns[2:]), function(np.log10(ns[2:])), '--k', label=f'polyfit, p={model[0]:3.2f}')\n",
    "plt.xlabel(r'$log_{10} (N_x) $, resolución')\n",
    "plt.ylabel(r'$log_{10} (tiempo) $ [s]')\n",
    "plt.title('tiempo vs resolución')\n",
    "plt.grid('on')\n",
    "plt.legend()"
   ]
  },
  {
   "cell_type": "code",
   "execution_count": null,
   "id": "cf2a3512-8d24-4e2d-bf93-12f2947dd909",
   "metadata": {},
   "outputs": [],
   "source": []
  }
 ],
 "metadata": {
  "kernelspec": {
   "display_name": "Python 3 (ipykernel)",
   "language": "python",
   "name": "python3"
  },
  "language_info": {
   "codemirror_mode": {
    "name": "ipython",
    "version": 3
   },
   "file_extension": ".py",
   "mimetype": "text/x-python",
   "name": "python",
   "nbconvert_exporter": "python",
   "pygments_lexer": "ipython3",
   "version": "3.9.10"
  }
 },
 "nbformat": 4,
 "nbformat_minor": 5
}
