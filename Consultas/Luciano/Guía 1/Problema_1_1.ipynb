{
 "cells": [
  {
   "cell_type": "markdown",
   "id": "f9e075a9",
   "metadata": {},
   "source": [
    "$$ \\LARGE\n",
    "\\underline{\\textbf{Problema 1}}\n",
    "$$"
   ]
  },
  {
   "cell_type": "markdown",
   "id": "d06992ca",
   "metadata": {},
   "source": [
    "Se tiene una placa cuadrada de aluminio cuyos bordes están en las condiciones que se indican en la\n",
    "figura: tres lados a temperaturas fijas y otro, el inferior, aislado térmicamente (flujo de calor igual a\n",
    "cero). Encuentre, utilizando el método de diferencias finitas, los valores de temperatura y flujo de\n",
    "calor para cada punto. Utilice primero la grilla señalada y luego generalice el problema a un número\n",
    "variable de nodos en cada eje de coordenadas. Haga un estudio del tiempo de cálculo en función del\n",
    "tamaño del sistema."
   ]
  },
  {
   "cell_type": "code",
   "execution_count": 1,
   "id": "7ae3ed10",
   "metadata": {},
   "outputs": [],
   "source": [
    "import numpy as np\n",
    "import matplotlib.pyplot as plt\n",
    "import time"
   ]
  },
  {
   "cell_type": "code",
   "execution_count": 2,
   "id": "411490d9",
   "metadata": {},
   "outputs": [],
   "source": [
    "Ta, Tb, Tc, Td = (75, 0, 50, 100)\n",
    "\n",
    "nx = 10\n",
    "ny = 10\n",
    "\n",
    "beta = nx/ny\n",
    "\n",
    "b = np.zeros([nx*ny, 1])  # Conviene que sea de ceros\n",
    "M = np.eye(nx*ny)"
   ]
  },
  {
   "cell_type": "code",
   "execution_count": 3,
   "id": "14e03932",
   "metadata": {},
   "outputs": [],
   "source": [
    "nk = nx*ny\n",
    "for k in range(nk):\n",
    "    if k == 0:\n",
    "        b[k] = (Ta+Tb)/2\n",
    "    elif k == (nx-1):\n",
    "        b[k] = (Tc+Tb)/2\n",
    "    elif k == nx*ny-nx:\n",
    "        b[k] = (Ta+Td)/2\n",
    "    elif k == nx*ny-1:\n",
    "        b[k] = (Tc+Td)/2\n",
    "    elif k < nx-1:\n",
    "        b[k] = Tb\n",
    "    elif k > nx*ny-1-nx:\n",
    "        b[k] = Td\n",
    "    elif k % nx == 0:\n",
    "        b[k] = Ta\n",
    "    elif (k+1) % nx == 0:  # si no pongo parentesis da mal\n",
    "        b[k] = Tc\n",
    "    else:\n",
    "        M[k, k] = -2*(1+beta**2)\n",
    "        M[k, k-1] = 1\n",
    "        M[k, k+1] = 1\n",
    "        M[k, k-nx] = beta**2\n",
    "        M[k, k+nx] = beta**2"
   ]
  },
  {
   "cell_type": "code",
   "execution_count": 4,
   "id": "cd6aba57",
   "metadata": {},
   "outputs": [],
   "source": [
    "T_1 = np.linalg.solve(M, b)\n",
    "T_matriz_1 = T_1.reshape(nx, ny)  # T es un array así que no hace falta usar np\n",
    "T_matriz_1 = T_matriz_1[::-1]  # Invierto filas"
   ]
  },
  {
   "cell_type": "code",
   "execution_count": 5,
   "id": "e4a7e125",
   "metadata": {},
   "outputs": [
    {
     "data": {
      "text/plain": [
       "Text(0, 0.5, ' j ')"
      ]
     },
     "execution_count": 5,
     "metadata": {},
     "output_type": "execute_result"
    },
    {
     "data": {
      "image/png": "[encoded data removed]",
      "text/plain": [
       "<Figure size 1080x576 with 2 Axes>"
      ]
     },
     "metadata": {
      "needs_background": "light"
     },
     "output_type": "display_data"
    }
   ],
   "source": [
    "plt.rc('figure', figsize=(15,8))\n",
    "plt.rc('font', size=22)\n",
    "mapable = plt.imshow(T_matriz_1)\n",
    "cbar = plt.colorbar(mapable)\n",
    "cbar.set_label('T(ºC)')\n",
    "plt.xlabel(' i ')\n",
    "plt.ylabel(' j ')"
   ]
  },
  {
   "cell_type": "markdown",
   "id": "2cc74da9",
   "metadata": {},
   "source": [
    "$$\n",
    "$$"
   ]
  },
  {
   "cell_type": "markdown",
   "id": "0fc60b8f",
   "metadata": {},
   "source": [
    "$$ \\LARGE\n",
    "\\underline{\\textbf{Problema 1 versión chapa}}\n",
    "$$"
   ]
  },
  {
   "cell_type": "code",
   "execution_count": 6,
   "id": "ad0d389e",
   "metadata": {},
   "outputs": [],
   "source": [
    "class Chapa:\n",
    "    def __init__(self, nx, ny=None):\n",
    "        self.nx = nx\n",
    "        if ny is None:\n",
    "            self.ny = nx\n",
    "        else:\n",
    "            self.ny = ny\n",
    "        self.nk = self.nx * self.ny\n",
    "\n",
    "    # entonces tendrías un método de definir la matriz:\n",
    "    def makematriz(self, Ta, Tb, Tc, Td):\n",
    "        beta = self.nx/self.ny\n",
    "        b = np.zeros([self.nx*self.ny, 1])  # Conviene que sea de ceros\n",
    "        M = np.eye(self.nx*self.ny)\n",
    "        nx = self.nx\n",
    "        ny = self.ny\n",
    "        for k in range(self.nk):\n",
    "            if k == 0:\n",
    "                b[k] = (Ta+Tb)/2\n",
    "            elif k == (nx-1):\n",
    "                b[k] = (Tc+Tb)/2\n",
    "            elif k == nx*ny-nx:\n",
    "                b[k] = (Ta+Td)/2\n",
    "            elif k == nx*ny-1:\n",
    "                b[k] = (Tc+Td)/2\n",
    "            elif k < nx-1:\n",
    "                b[k] = Tb\n",
    "            elif k > nx*ny-1-nx:\n",
    "                b[k] = Td\n",
    "            elif k % nx == 0:\n",
    "                b[k] = Ta\n",
    "            elif (k+1) % nx == 0:  # si no pongo parentesis da mal\n",
    "                b[k] = Tc\n",
    "            else:\n",
    "                M[k, k] = -2*(1+beta**2)\n",
    "                M[k, k-1] = 1\n",
    "                M[k, k+1] = 1\n",
    "                M[k, k-nx] = beta**2\n",
    "                M[k, k+nx] = beta**2\n",
    "        return M, b\n",
    "\n",
    "    # y un método de solución:\n",
    "    def solve(self, M, b):\n",
    "        T = np.linalg.solve(M, b)\n",
    "        T_matriz = T.reshape(self.nx, self.ny)\n",
    "        T_matriz = T_matriz[::-1]\n",
    "        return T_matriz"
   ]
  },
  {
   "cell_type": "code",
   "execution_count": 7,
   "id": "cc2573b3",
   "metadata": {},
   "outputs": [],
   "source": [
    "Ta, Tb, Tc, Td = (75, 0, 50, 100)\n",
    "\n",
    "lachapa = Chapa(10)"
   ]
  },
  {
   "cell_type": "code",
   "execution_count": 8,
   "id": "00f60111",
   "metadata": {},
   "outputs": [],
   "source": [
    "M_2, b_2 = lachapa.makematriz(Ta, Tb, Tc, Td)"
   ]
  },
  {
   "cell_type": "code",
   "execution_count": 9,
   "id": "0ed5c27d",
   "metadata": {},
   "outputs": [],
   "source": [
    "T_matriz_2 = lachapa.solve(M_2, b_2)"
   ]
  },
  {
   "cell_type": "code",
   "execution_count": 10,
   "id": "c834ee2f",
   "metadata": {},
   "outputs": [
    {
     "data": {
      "text/plain": [
       "Text(0, 0.5, ' j ')"
      ]
     },
     "execution_count": 10,
     "metadata": {},
     "output_type": "execute_result"
    },
    {
     "data": {
      "image/png": "[encoded data removed]",
      "text/plain": [
       "<Figure size 1080x576 with 2 Axes>"
      ]
     },
     "metadata": {
      "needs_background": "light"
     },
     "output_type": "display_data"
    }
   ],
   "source": [
    "plt.rc('figure', figsize=(15,8))\n",
    "plt.rc('font', size=22)\n",
    "mapable = plt.imshow(T_matriz_2)\n",
    "cbar = plt.colorbar(mapable)\n",
    "cbar.set_label('T(ºC)')\n",
    "plt.xlabel(' i ')\n",
    "plt.ylabel(' j ')"
   ]
  },
  {
   "cell_type": "code",
   "execution_count": 11,
   "id": "68a16163",
   "metadata": {},
   "outputs": [],
   "source": [
    "ns = np.logspace(1, 2, 10).astype(int)"
   ]
  },
  {
   "cell_type": "markdown",
   "id": "15dca187",
   "metadata": {},
   "source": [
    "$$\n",
    "$$"
   ]
  },
  {
   "cell_type": "markdown",
   "id": "e1297e5c",
   "metadata": {},
   "source": [
    "$ \\Large\n",
    "\\textbf{Determino el tiempo de calculo del sistema en función de la resolución de la grilla}\n",
    "$"
   ]
  },
  {
   "cell_type": "code",
   "execution_count": 12,
   "id": "276dc6ac",
   "metadata": {},
   "outputs": [],
   "source": [
    "dts = []\n",
    "for ni in ns:\n",
    "    thischapa = Chapa(ni)\n",
    "    M, b = thischapa.makematriz(Ta, Tb, Tc, Td)\n",
    "    t1 = time.time()\n",
    "    thischapa.solve(M, b)\n",
    "    t2 = time.time()\n",
    "    dts.append(t2-t1)"
   ]
  },
  {
   "cell_type": "markdown",
   "id": "6de0e099",
   "metadata": {},
   "source": [
    "<div style=\"background:#999900\"> Muy Bien ! lo que te faltaría es ver el escaleo, esto tiene que seguir una ley $dt = Nx^p$ , donde p viene dado por el conteo de operaciones en la triangulación de gauss. </div>"
   ]
  },
  {
   "cell_type": "code",
   "execution_count": 13,
   "id": "8b86ebe0",
   "metadata": {},
   "outputs": [],
   "source": [
    "model = np.polyfit(np.log10(ns), np.log10(dts), 1)"
   ]
  },
  {
   "cell_type": "code",
   "execution_count": 14,
   "id": "51487e61",
   "metadata": {},
   "outputs": [
    {
     "data": {
      "text/plain": [
       "array([ 4.27949205, -8.09846309])"
      ]
     },
     "execution_count": 14,
     "metadata": {},
     "output_type": "execute_result"
    }
   ],
   "source": [
    "model"
   ]
  },
  {
   "cell_type": "code",
   "execution_count": 15,
   "id": "cb35f5f7",
   "metadata": {},
   "outputs": [],
   "source": [
    "function = np.poly1d(model)"
   ]
  },
  {
   "cell_type": "code",
   "execution_count": 16,
   "id": "4d4e9ca9",
   "metadata": {},
   "outputs": [
    {
     "data": {
      "text/plain": [
       "poly1d([ 4.27949205, -8.09846309])"
      ]
     },
     "execution_count": 16,
     "metadata": {},
     "output_type": "execute_result"
    }
   ],
   "source": [
    "function"
   ]
  },
  {
   "cell_type": "code",
   "execution_count": 17,
   "id": "61edf67e",
   "metadata": {},
   "outputs": [
    {
     "data": {
      "text/plain": [
       "<matplotlib.legend.Legend at 0x7f6e77ab9d30>"
      ]
     },
     "execution_count": 17,
     "metadata": {},
     "output_type": "execute_result"
    },
    {
     "data": {
      "image/png": "[encoded data removed]",
      "text/plain": [
       "<Figure size 1080x576 with 1 Axes>"
      ]
     },
     "metadata": {
      "needs_background": "light"
     },
     "output_type": "display_data"
    }
   ],
   "source": [
    "plt.plot(np.log10(ns), np.log10(dts), 'o', label='Measurements')\n",
    "plt.plot(np.log10(ns), function(np.log10(ns)), '--k', label=f'polyfit, p={model[0]:3.2f}')\n",
    "plt.xlabel(r'$log_{10} (N_x) $, resolución')\n",
    "plt.ylabel(r'$log_{10} (tiempo) $ [s]')\n",
    "plt.title('tiempo vs resolución')\n",
    "plt.grid('on')\n",
    "plt.legend()"
   ]
  },
  {
   "cell_type": "code",
   "execution_count": null,
   "id": "35a9e81d",
   "metadata": {},
   "outputs": [],
   "source": []
  },
  {
   "cell_type": "code",
   "execution_count": null,
   "id": "42598731",
   "metadata": {},
   "outputs": [],
   "source": []
  }
 ],
 "metadata": {
  "kernelspec": {
   "display_name": "Python 3 (ipykernel)",
   "language": "python",
   "name": "python3"
  },
  "language_info": {
   "codemirror_mode": {
    "name": "ipython",
    "version": 3
   },
   "file_extension": ".py",
   "mimetype": "text/x-python",
   "name": "python",
   "nbconvert_exporter": "python",
   "pygments_lexer": "ipython3",
   "version": "3.9.12"
  }
 },
 "nbformat": 4,
 "nbformat_minor": 5
}
