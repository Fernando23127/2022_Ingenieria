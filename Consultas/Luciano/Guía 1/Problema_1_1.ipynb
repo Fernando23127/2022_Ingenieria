{
 "cells": [
  {
   "cell_type": "markdown",
   "id": "6de7f1c7-bc7d-4374-b914-42dad4516e4e",
   "metadata": {},
   "source": [
    "$$ \\LARGE\n",
    "\\underline{\\textbf{Problema 1}}\n",
    "$$"
   ]
  },
  {
   "cell_type": "markdown",
   "id": "bd6ae09b-a314-4ac9-a3d8-fa32eb7f4330",
   "metadata": {},
   "source": [
    "Se tiene una placa cuadrada de aluminio cuyos bordes están en las condiciones que se indican en la\n",
    "figura: tres lados a temperaturas fijas y otro, el inferior, aislado térmicamente (flujo de calor igual a\n",
    "cero). Encuentre, utilizando el método de diferencias finitas, los valores de temperatura y flujo de\n",
    "calor para cada punto. Utilice primero la grilla señalada y luego generalice el problema a un número\n",
    "variable de nodos en cada eje de coordenadas. Haga un estudio del tiempo de cálculo en función del\n",
    "tamaño del sistema."
   ]
  },
  {
   "cell_type": "code",
   "execution_count": 1,
   "id": "e9c5d734-efd3-4b3b-a841-99213e31d1cd",
   "metadata": {},
   "outputs": [],
   "source": [
    "import numpy as np\n",
    "import matplotlib.pyplot as plt"
   ]
  },
  {
   "cell_type": "code",
   "execution_count": 2,
   "id": "62e7196e-b41d-4599-b383-751b45778693",
   "metadata": {},
   "outputs": [],
   "source": [
    "Ta, Tb, Tc, Td = (75, 0, 50, 100)\n",
    "\n",
    "nx = 100\n",
    "ny = 100\n",
    "\n",
    "beta = nx/ny\n",
    "\n",
    "b = np.zeros([nx*ny, 1])  # Conviene que sea de ceros\n",
    "M = np.eye(nx*ny)"
   ]
  },
  {
   "cell_type": "code",
   "execution_count": 3,
   "id": "b5c797e9-0c7b-47e6-b330-c9c8c6fb70d7",
   "metadata": {},
   "outputs": [],
   "source": [
    "nk = nx*ny\n",
    "for k in range(nk):\n",
    "    if k == 0:\n",
    "        b[k] = (Ta+Tb)/2\n",
    "    elif k == (nx-1):\n",
    "        b[k] = (Tc+Tb)/2\n",
    "    elif k == nx*ny-nx:\n",
    "        b[k] = (Ta+Td)/2\n",
    "    elif k == nx*ny-1:\n",
    "        b[k] = (Tc+Td)/2\n",
    "    elif k < nx-1:\n",
    "        b[k] = Tb\n",
    "    elif k > nx*ny-1-nx:\n",
    "        b[k] = Td\n",
    "    elif k % nx == 0:\n",
    "        b[k] = Ta\n",
    "    elif (k+1) % nx == 0:  # si no pongo parentesis da mal\n",
    "        b[k] = Tc\n",
    "    else:\n",
    "        M[k, k] = -2*(1+beta**2)\n",
    "        M[k, k-1] = 1\n",
    "        M[k, k+1] = 1\n",
    "        M[k, k-nx] = beta**2\n",
    "        M[k, k+nx] = beta**2"
   ]
  },
  {
   "cell_type": "code",
   "execution_count": 4,
   "id": "6e7926b5-6749-414f-ad9a-419f6f0fce1b",
   "metadata": {},
   "outputs": [
    {
     "data": {
      "text/plain": [
       "<matplotlib.image.AxesImage at 0x2397d5a00d0>"
      ]
     },
     "execution_count": 4,
     "metadata": {},
     "output_type": "execute_result"
    },
    {
     "data": {
      "image/png": "[encoded data removed]",
      "text/plain": [
       "<Figure size 432x288 with 1 Axes>"
      ]
     },
     "metadata": {
      "needs_background": "light"
     },
     "output_type": "display_data"
    }
   ],
   "source": [
    "plt.imshow(M)"
   ]
  },
  {
   "cell_type": "code",
   "execution_count": 5,
   "id": "eea4847f-6f71-4a04-b7e0-8e71cdb474de",
   "metadata": {},
   "outputs": [],
   "source": [
    "T = np.linalg.solve(M, b)"
   ]
  },
  {
   "cell_type": "code",
   "execution_count": 6,
   "id": "6cc671f2-ad29-4486-ba12-2f930285069d",
   "metadata": {},
   "outputs": [],
   "source": [
    "T_matriz = T.reshape(nx, ny)  # T es un array así que no hace falta usar np"
   ]
  },
  {
   "cell_type": "code",
   "execution_count": 7,
   "id": "822ae387-2d67-4faf-ba65-bd459ee38121",
   "metadata": {},
   "outputs": [
    {
     "data": {
      "text/plain": [
       "array([[ 37.5       ,   0.        ,   0.        , ...,   0.        ,\n",
       "          0.        ,  25.        ],\n",
       "       [ 75.        ,  37.50837435,  22.69279364, ...,  15.14527877,\n",
       "         25.01395725,  50.        ],\n",
       "       [ 75.        ,  52.34070375,  37.53349738, ...,  25.05582896,\n",
       "         34.91055022,  50.        ],\n",
       "       ...,\n",
       "       [ 75.        ,  82.53076324,  87.44417104, ...,  74.96650262,\n",
       "         65.1006097 ,  50.        ],\n",
       "       [ 75.        ,  87.48604275,  92.41340778, ...,  84.86589291,\n",
       "         74.99162565,  50.        ],\n",
       "       [ 87.5       , 100.        , 100.        , ..., 100.        ,\n",
       "        100.        ,  75.        ]])"
      ]
     },
     "execution_count": 7,
     "metadata": {},
     "output_type": "execute_result"
    }
   ],
   "source": [
    "T_matriz"
   ]
  },
  {
   "cell_type": "code",
   "execution_count": 8,
   "id": "26cfb9c2-0040-4576-9a34-65aa045acb50",
   "metadata": {},
   "outputs": [
    {
     "data": {
      "text/plain": [
       "array([[ 87.5       , 100.        , 100.        , ..., 100.        ,\n",
       "        100.        ,  75.        ],\n",
       "       [ 75.        ,  87.48604275,  92.41340778, ...,  84.86589291,\n",
       "         74.99162565,  50.        ],\n",
       "       [ 75.        ,  82.53076324,  87.44417104, ...,  74.96650262,\n",
       "         65.1006097 ,  50.        ],\n",
       "       ...,\n",
       "       [ 75.        ,  52.34070375,  37.53349738, ...,  25.05582896,\n",
       "         34.91055022,  50.        ],\n",
       "       [ 75.        ,  37.50837435,  22.69279364, ...,  15.14527877,\n",
       "         25.01395725,  50.        ],\n",
       "       [ 37.5       ,   0.        ,   0.        , ...,   0.        ,\n",
       "          0.        ,  25.        ]])"
      ]
     },
     "execution_count": 8,
     "metadata": {},
     "output_type": "execute_result"
    }
   ],
   "source": [
    "T_matriz[::-1]  # Invierto filas"
   ]
  },
  {
   "cell_type": "code",
   "execution_count": 9,
   "id": "1db50aaf-c314-4c05-91d4-17fdadccdce1",
   "metadata": {},
   "outputs": [
    {
     "data": {
      "text/plain": [
       "<matplotlib.image.AxesImage at 0x23964655a00>"
      ]
     },
     "execution_count": 9,
     "metadata": {},
     "output_type": "execute_result"
    },
    {
     "data": {
      "image/png": "[encoded data removed]",
      "text/plain": [
       "<Figure size 432x288 with 1 Axes>"
      ]
     },
     "metadata": {
      "needs_background": "light"
     },
     "output_type": "display_data"
    }
   ],
   "source": [
    "plt.imshow(T_matriz)"
   ]
  }
 ],
 "metadata": {
  "kernelspec": {
   "display_name": "Python 3 (ipykernel)",
   "language": "python",
   "name": "python3"
  },
  "language_info": {
   "codemirror_mode": {
    "name": "ipython",
    "version": 3
   },
   "file_extension": ".py",
   "mimetype": "text/x-python",
   "name": "python",
   "nbconvert_exporter": "python",
   "pygments_lexer": "ipython3",
   "version": "3.9.10"
  }
 },
 "nbformat": 4,
 "nbformat_minor": 5
}
