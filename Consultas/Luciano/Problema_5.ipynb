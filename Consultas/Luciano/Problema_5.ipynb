{
 "cells": [
  {
   "cell_type": "markdown",
   "id": "581018a3-63ae-46ce-b908-cccc3b3a571d",
   "metadata": {},
   "source": [
    "$$\n",
    "\\Large \\textbf{Problema 5}\n",
    "$$"
   ]
  },
  {
   "cell_type": "markdown",
   "id": "75320cae-cd27-4b49-b96c-ffad50cbe8c3",
   "metadata": {},
   "source": [
    "El agua de un lago de zonas templadas, al igual que el líquido en un reactor de procesos químicos, está térmicamente estratificada. Cerca de la superficie el agua es tibia y liviana (epilimnion) y en el fondo más fría y densa (hipolimnion). Ambas capas estan separadas, aproximadamente, por un plano conocido por thermocline, donde la derivada segunda de la temperatura respecto de la profundidad se hace cero (o la derivada primera tiene su máximo). A esa profundidad el flujo de calor de la superficie al fondo de la capa se puede calcular con la ley de Fourier,"
   ]
  },
  {
   "cell_type": "markdown",
   "id": "07f5c63e-7ab1-4fb3-a6f3-471fb009f548",
   "metadata": {},
   "source": [
    "$$ \\large\n",
    "J=-k\\frac{dT}{dz}\n",
    "$$"
   ]
  },
  {
   "cell_type": "markdown",
   "id": "64b0267d-7332-4f8d-b506-0d5e1fefd3c2",
   "metadata": {},
   "source": [
    "Dados los datos de la tabla siguiente, correspondientes a la temperatura del líquido de un reactor en función de la profundidad usando el método de splines. Encuentre la posición aproximada de la thermocline y calcule el flujo de calor a través de la interfaz (tome $\\text{k = 0.01 cal/(s cm °C)}$)"
   ]
  },
  {
   "cell_type": "markdown",
   "id": "5a2dc064-a4fd-4120-a464-e4796e77f41a",
   "metadata": {},
   "source": [
    "$$ \n",
    "\\begin{equation}\n",
    "\\begin{matrix}\n",
    "z(m) & 0 & 0.5 & 1.0 & 1.5 & 2.0 & 2.5 & 3.0\\\\\n",
    "T(°C) & 70 & 68 & 55 & 22 & 13 & 11 & 10\n",
    "\\end{matrix}\n",
    "\\end{equation}\\ \n",
    "$$"
   ]
  },
  {
   "cell_type": "code",
   "execution_count": 1,
   "id": "4d7b3af1-fc2f-4ee1-b618-141e29e21609",
   "metadata": {},
   "outputs": [],
   "source": [
    "import Tools as tl\n",
    "import numpy as np\n",
    "import matplotlib.pyplot as plt"
   ]
  },
  {
   "cell_type": "code",
   "execution_count": 2,
   "id": "136b52ee-1a04-46e6-839b-4a53a71c4647",
   "metadata": {},
   "outputs": [],
   "source": [
    "S = np.transpose(np.loadtxt('Datos_P5.txt', unpack=True))\n",
    "# se forman dos vectores fila con los datos correspondientes a ese archivo"
   ]
  },
  {
   "cell_type": "code",
   "execution_count": 3,
   "id": "c0a3bde2-43fa-43d2-8ede-2d7bf7df0327",
   "metadata": {},
   "outputs": [
    {
     "data": {
      "text/plain": [
       "Text(0.5, 1.0, 'Mediciones')"
      ]
     },
     "execution_count": 3,
     "metadata": {},
     "output_type": "execute_result"
    },
    {
     "data": {
      "image/png": "[encoded data removed]",
      "text/plain": [
       "<Figure size 432x288 with 1 Axes>"
      ]
     },
     "metadata": {
      "needs_background": "light"
     },
     "output_type": "display_data"
    }
   ],
   "source": [
    "plt.plot(S[:, 0], S[:, 1], 'ok')\n",
    "plt.xlabel('z [m]')\n",
    "plt.ylabel('T [°C]')\n",
    "plt.title('Mediciones')"
   ]
  },
  {
   "cell_type": "markdown",
   "id": "49560694-a48c-4a3c-8b6b-032edeefa413",
   "metadata": {},
   "source": [
    "Elijo r0 y rn = 0 como las 2 condiciones restantes para poder resolver la spline cúbica\n",
    "z = 1 para indicar que las condiciones corresponden a los valores de las derivadas primeras en los extremos\n",
    "'p' nos da la cantidad de puntos que se generan para cada una de las curvas (mayor 'p' mayor precisión)"
   ]
  },
  {
   "cell_type": "code",
   "execution_count": 4,
   "id": "989587e9-d963-4cc2-8079-951b6e0180a4",
   "metadata": {},
   "outputs": [
    {
     "data": {
      "image/png": "[encoded data removed]",
      "text/plain": [
       "<Figure size 432x288 with 1 Axes>"
      ]
     },
     "metadata": {
      "needs_background": "light"
     },
     "output_type": "display_data"
    }
   ],
   "source": [
    "r0 = 0\n",
    "rn = 0\n",
    "z = 1\n",
    "coef = np.array(tl.spline3(S, z, r0, rn))\n",
    "plt.title('Interpolación de las mediciones')\n",
    "plt.xlabel('z [m]')\n",
    "plt.ylabel('T [°C]')\n",
    "fd = tl.grspline3(S, coef, 70, 1)"
   ]
  },
  {
   "cell_type": "markdown",
   "id": "f48e6930-1eb2-450a-89a1-9ab95c6518a8",
   "metadata": {},
   "source": [
    "Grafico todas las curvas correspondientes con la función que cree llamada grspline3"
   ]
  },
  {
   "cell_type": "code",
   "execution_count": 7,
   "id": "d14bdffe-3b9e-476b-a369-f953808237d5",
   "metadata": {},
   "outputs": [
    {
     "name": "stderr",
     "output_type": "stream",
     "text": [
      "C:\\Users\\lucho\\AppData\\Local\\Temp\\ipykernel_19988\\2627615067.py:1: VisibleDeprecationWarning: Creating an ndarray from ragged nested sequences (which is a list-or-tuple of lists-or-tuples-or ndarrays with different lengths or shapes) is deprecated. If you meant to do this, you must specify 'dtype=object' when creating the ndarray.\n",
      "  min(np.array(fd).ravel())\n"
     ]
    },
    {
     "ename": "TypeError",
     "evalue": "'>' not supported between instances of 'float' and 'NoneType'",
     "output_type": "error",
     "traceback": [
      "\u001b[1;31m---------------------------------------------------------------------------\u001b[0m",
      "\u001b[1;31mTypeError\u001b[0m                                 Traceback (most recent call last)",
      "\u001b[1;32m~\\AppData\\Local\\Temp\\ipykernel_19988\\2627615067.py\u001b[0m in \u001b[0;36m<module>\u001b[1;34m\u001b[0m\n\u001b[1;32m----> 1\u001b[1;33m \u001b[0mmin\u001b[0m\u001b[1;33m(\u001b[0m\u001b[0mnp\u001b[0m\u001b[1;33m.\u001b[0m\u001b[0marray\u001b[0m\u001b[1;33m(\u001b[0m\u001b[0mfd\u001b[0m\u001b[1;33m)\u001b[0m\u001b[1;33m.\u001b[0m\u001b[0mravel\u001b[0m\u001b[1;33m(\u001b[0m\u001b[1;33m)\u001b[0m\u001b[1;33m)\u001b[0m\u001b[1;33m\u001b[0m\u001b[1;33m\u001b[0m\u001b[0m\n\u001b[0m",
      "\u001b[1;31mTypeError\u001b[0m: '>' not supported between instances of 'float' and 'NoneType'"
     ]
    }
   ],
   "source": [
    "min(np.array(fd).ravel())"
   ]
  },
  {
   "cell_type": "code",
   "execution_count": null,
   "id": "dea0b2ed-1c5b-4787-91c8-0acb1debc225",
   "metadata": {},
   "outputs": [],
   "source": []
  }
 ],
 "metadata": {
  "kernelspec": {
   "display_name": "Python 3 (ipykernel)",
   "language": "python",
   "name": "python3"
  },
  "language_info": {
   "codemirror_mode": {
    "name": "ipython",
    "version": 3
   },
   "file_extension": ".py",
   "mimetype": "text/x-python",
   "name": "python",
   "nbconvert_exporter": "python",
   "pygments_lexer": "ipython3",
   "version": "3.9.10"
  }
 },
 "nbformat": 4,
 "nbformat_minor": 5
}
