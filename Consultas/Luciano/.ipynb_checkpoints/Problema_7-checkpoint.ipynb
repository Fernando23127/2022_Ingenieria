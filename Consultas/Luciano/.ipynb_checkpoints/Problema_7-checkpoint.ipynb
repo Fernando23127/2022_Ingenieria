{
 "cells": [
  {
   "cell_type": "markdown",
   "id": "2d88a383-13dc-4000-bfbd-c1383c1c448c",
   "metadata": {},
   "source": [
    "$$ \n",
    "\\Large \\underline{\\textbf{Problema 7}}\n",
    "$$"
   ]
  },
  {
   "cell_type": "markdown",
   "id": "07c26611-fb0f-42be-967e-d035788b068a",
   "metadata": {},
   "source": [
    "La fuerza efectiva que realiza el viento sobre el mástil de un bote de velas puede aproximarse por la siguiente\n",
    "expresión:"
   ]
  },
  {
   "cell_type": "markdown",
   "id": "6e716db0-897d-4034-a8e8-06b930f27507",
   "metadata": {},
   "source": [
    "$$ \\large\n",
    "\\begin{equation}\n",
    "F=\\int \\limits_{0}^{30}200\\frac{z}{5+z}e^{-2\\ z\\ /\\ 30}dz\n",
    "\\end{equation}\n",
    "$$"
   ]
  },
  {
   "cell_type": "markdown",
   "id": "8ff2ede6-614a-4e03-ab89-961433f4925b",
   "metadata": {},
   "source": [
    "donde F está dada en lbs y las distancias en pies. Estime, utilizando los métodos de trapecios, de Simpson 1/3\n",
    "y cuadraturas de Gauss, cuánto vale la fuerza total y dónde será el punto de acción efectiva de esta fuerza"
   ]
  },
  {
   "cell_type": "markdown",
   "id": "2e654a0d-706f-484a-9f23-ca25ac85b94f",
   "metadata": {},
   "source": [
    "$$ \\large\n",
    "\\begin{equation}\n",
    "d=\\int \\limits_{0}^{30}z\\ f(z)\\ dz\n",
    "\\end{equation}\n",
    "$$"
   ]
  },
  {
   "cell_type": "markdown",
   "id": "729e47f9-7c18-4d27-8cae-273467a8c233",
   "metadata": {},
   "source": [
    "Utilice varios tamaños de paso de integración, entre 5 y 0.05 pies, y estudie la convergencia de cada método."
   ]
  },
  {
   "cell_type": "code",
   "execution_count": 31,
   "id": "f276e63d-f1d9-4581-b224-baceb8814df9",
   "metadata": {},
   "outputs": [],
   "source": [
    "import numpy as np\n",
    "import matplotlib.pyplot as plt"
   ]
  },
  {
   "cell_type": "code",
   "execution_count": 2,
   "id": "c500ce16-c715-4bb5-89fb-260196c0d7f9",
   "metadata": {},
   "outputs": [],
   "source": [
    "a = 0\n",
    "b = 30\n",
    "p = 200  # pasos de integración"
   ]
  },
  {
   "cell_type": "markdown",
   "id": "967d823e-3811-4ae0-96d4-89bf748e86b6",
   "metadata": {},
   "source": [
    "$ \\large \\textbf\n",
    "{Método de Trapecios}\n",
    "$"
   ]
  },
  {
   "cell_type": "code",
   "execution_count": 12,
   "id": "55bd2b59-2b97-4346-abb3-7f08557ec398",
   "metadata": {},
   "outputs": [],
   "source": [
    "def trapecios(p, a=0, b=30):\n",
    "    x = np.linspace(a, b, p)\n",
    "    sum = []\n",
    "    f = 0\n",
    "    for i, xi in enumerate(x[1:-1]):\n",
    "        f += 200*xi/(5+xi)*np.exp(-2*xi/30)\n",
    "        sum.append(f)\n",
    "    fo = 200*a/(5+a)*np.exp(-2*a/30)\n",
    "    fn = 200*b/(5+b)*np.exp(-2*b/30)\n",
    "    IL = (b-a)/p*1/2*(fo+2*sum[-1]+fn)\n",
    "    return IL"
   ]
  },
  {
   "cell_type": "code",
   "execution_count": 36,
   "id": "8f192eea-45b8-4252-b4f5-f580d5bad047",
   "metadata": {},
   "outputs": [],
   "source": [
    "nint = np.logspace(1, 5, 20).astype(int)"
   ]
  },
  {
   "cell_type": "code",
   "execution_count": 37,
   "id": "22ddb89a-376e-4ed7-b056-a5ae1367957d",
   "metadata": {},
   "outputs": [
    {
     "data": {
      "text/plain": [
       "array([    10,     16,     26,     42,     69,    112,    183,    297,\n",
       "          483,    784,   1274,   2069,   3359,   5455,   8858,  14384,\n",
       "        23357,  37926,  61584, 100000])"
      ]
     },
     "execution_count": 37,
     "metadata": {},
     "output_type": "execute_result"
    }
   ],
   "source": [
    "nint"
   ]
  },
  {
   "cell_type": "code",
   "execution_count": 38,
   "id": "8325ffe8-b25b-453f-b3bf-544bc736acbd",
   "metadata": {},
   "outputs": [],
   "source": [
    "IL = [trapecios(p) for p in nint]"
   ]
  },
  {
   "cell_type": "code",
   "execution_count": 39,
   "id": "6b6f6e9c-0429-470b-a7aa-1017c6b988b0",
   "metadata": {},
   "outputs": [],
   "source": [
    "e = np.abs((IL[:-1]-IL[-1])/IL[-1])"
   ]
  },
  {
   "cell_type": "code",
   "execution_count": 44,
   "id": "8ea0935c-b1f3-427a-ad8d-eb2a64f7cb0c",
   "metadata": {},
   "outputs": [
    {
     "data": {
      "text/plain": [
       "Text(0.5, 1.0, 'Error en método de Trapecios')"
      ]
     },
     "execution_count": 44,
     "metadata": {},
     "output_type": "execute_result"
    },
    {
     "data": {
      "image/png": "[encoded data removed]",
      "text/plain": [
       "<Figure size 432x288 with 1 Axes>"
      ]
     },
     "metadata": {
      "needs_background": "light"
     },
     "output_type": "display_data"
    }
   ],
   "source": [
    "plt.loglog(nint[:-1], e, 'ok')\n",
    "plt.xlabel('N° de intervalos')\n",
    "plt.ylabel('error relativo')\n",
    "plt.title('Error en método de Trapecios')"
   ]
  },
  {
   "cell_type": "code",
   "execution_count": 32,
   "id": "edca9dcd-bdc0-4649-92aa-5054a048e5a2",
   "metadata": {},
   "outputs": [
    {
     "data": {
      "text/plain": [
       "[<matplotlib.lines.Line2D at 0x1f1a7628850>]"
      ]
     },
     "execution_count": 32,
     "metadata": {},
     "output_type": "execute_result"
    },
    {
     "data": {
      "image/png": "[encoded data removed]",
      "text/plain": [
       "<Figure size 432x288 with 1 Axes>"
      ]
     },
     "metadata": {
      "needs_background": "light"
     },
     "output_type": "display_data"
    }
   ],
   "source": [
    "plt.plot(nint, IL)"
   ]
  },
  {
   "cell_type": "markdown",
   "id": "180ca628-24dc-4220-a977-8b877ada5e0b",
   "metadata": {},
   "source": [
    "$ \\large \\textbf\n",
    "{Método de Simpsons 1/3}\n",
    "$"
   ]
  },
  {
   "cell_type": "code",
   "execution_count": 4,
   "id": "26d31edd-6dd9-4cb3-b892-9359a4091502",
   "metadata": {},
   "outputs": [
    {
     "name": "stdout",
     "output_type": "stream",
     "text": [
      "1479.3971559251793\n"
     ]
    }
   ],
   "source": [
    "x = np.linspace(a, b, p)\n",
    "sum = []\n",
    "fpar = 0\n",
    "fimp = 0\n",
    "for i, xi in enumerate(x[1:-1]):\n",
    "    if i % 2 == 0:\n",
    "        fpar += 200*xi/(5+xi)*np.exp(-2*xi/30)\n",
    "        sum.append(fpar)\n",
    "    elif i % 2 == 1:\n",
    "        fimp += 200*xi/(5+xi)*np.exp(-2*xi/30)\n",
    "fo = 200*a/(5+a)*np.exp(-2*a/30)\n",
    "fn = 200*b/(5+b)*np.exp(-2*b/30)\n",
    "IL = (b-a)/(p-1)*1/3*(fo+4*fpar+2*fimp+fn)\n",
    "\n",
    "print(IL)"
   ]
  },
  {
   "cell_type": "markdown",
   "id": "1a1e2b62-89ba-4fa8-8708-775c7fe4ff6f",
   "metadata": {},
   "source": [
    "$ \\large \\textbf\n",
    "{Método de Gauss}\n",
    "$"
   ]
  },
  {
   "cell_type": "code",
   "execution_count": 11,
   "id": "63175835-3124-48df-b01d-c2e3835c875d",
   "metadata": {},
   "outputs": [
    {
     "name": "stdout",
     "output_type": "stream",
     "text": [
      "1610.5722652945797\n"
     ]
    }
   ],
   "source": [
    "c = [1, 1]\n",
    "t = [-1/(3**(1/2)), 1/(3**(1/2))]\n",
    "xt = []  # x en función de t\n",
    "sum = 0\n",
    "for i, ti in enumerate(t):\n",
    "    xt.append((b-a)/2*ti+(b+a)/2)\n",
    "    sum += c[i]*200*xt[i]/(5+xt[i])*np.exp(-2*xt[i]/30)\n",
    "IG = (b-a)/2*sum\n",
    "print(IG)"
   ]
  },
  {
   "cell_type": "code",
   "execution_count": null,
   "id": "c1b739f7-8b05-42e2-ad87-f79f49b3c72f",
   "metadata": {},
   "outputs": [],
   "source": [
    "for i in range(0,100,10):"
   ]
  }
 ],
 "metadata": {
  "kernelspec": {
   "display_name": "Python 3 (ipykernel)",
   "language": "python",
   "name": "python3"
  },
  "language_info": {
   "codemirror_mode": {
    "name": "ipython",
    "version": 3
   },
   "file_extension": ".py",
   "mimetype": "text/x-python",
   "name": "python",
   "nbconvert_exporter": "python",
   "pygments_lexer": "ipython3",
   "version": "3.9.10"
  }
 },
 "nbformat": 4,
 "nbformat_minor": 5
}
