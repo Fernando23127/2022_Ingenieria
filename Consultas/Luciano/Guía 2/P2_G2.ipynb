{
 "cells": [
  {
   "cell_type": "markdown",
   "id": "f1012930",
   "metadata": {},
   "source": [
    "$$\\LARGE\n",
    "\\underline\n",
    "{\n",
    "\\textbf\n",
    "    {Problema 2}\n",
    "}\n",
    "$$"
   ]
  },
  {
   "cell_type": "markdown",
   "id": "f29dd9bf",
   "metadata": {},
   "source": [
    "Considere el entramado mostrado en la figura, con una fuerza aplicada de 20 kN. Calcule los\n",
    "desplazamientos de cada uno de los nodos y las tensiones que sufre cada elemento. Todos los\n",
    "elementos tienen $E = 210\\ GPa$ y una sección de $10 cm^{2}$, excepto el elemento 3, que tiene una\n",
    "sección de $20 cm^{2}$. Los elementos 2 y 5 tienen una longitud de 8 metros y el elemento 3 de 4\n",
    "metros."
   ]
  },
  {
   "cell_type": "markdown",
   "id": "6a9544e5",
   "metadata": {},
   "source": [
    "<center><img src=\"ImgProb02G02.png\"></center>"
   ]
  },
  {
   "cell_type": "code",
   "execution_count": 1,
   "id": "9e939172",
   "metadata": {},
   "outputs": [],
   "source": [
    "import numpy as np\n",
    "import MEF as mef"
   ]
  },
  {
   "cell_type": "code",
   "execution_count": 2,
   "id": "7b27a0aa",
   "metadata": {},
   "outputs": [],
   "source": [
    "glxn = 2  # grados de libertad por nodo"
   ]
  },
  {
   "cell_type": "markdown",
   "id": "c5a85925",
   "metadata": {},
   "source": [
    "<div style=\"background:#999900\"> Las fuerzas del resultado parecen estar bien, deberías tener dos fuerzas en y iguales (en las puntas del puente) compensando la carga. Fijate en el ejemplo del repositorio que esta el resultado !</div>"
   ]
  },
  {
   "cell_type": "code",
   "execution_count": 3,
   "id": "c374fd53",
   "metadata": {},
   "outputs": [],
   "source": [
    "MN = np.array([[0,0,0],[8,0,0],[16,0,0],[8,4,0]])  # pos de cada nodo  # metros\n",
    "MC = np.array([[0,3],[0,1],[1,3],[2,3],[1,2]])  # ensamble entre elementos\n",
    "E = np.array([210,210,210,210,210])*1e9  # GPa\n",
    "A = np.array([10,10,20,10,10])/(100**2)  # m2\n",
    "\n",
    "s = np.array([0,1,5])\n",
    "r = mef.vector_complemento(s, MN, glxn)\n",
    "\n",
    "Fr = np.array([0,0,-20,0,0]).reshape([-1,1])*1e3\n",
    "Us = np.array([0, 0, 0]).reshape([-1,1])"
   ]
  },
  {
   "cell_type": "markdown",
   "id": "55ad462c",
   "metadata": {},
   "source": [
    "<div style=\"background:#999900\">Me parece que el problema es que esta mal la fuerza de input</div>"
   ]
  },
  {
   "cell_type": "code",
   "execution_count": 4,
   "id": "0a0ee11f",
   "metadata": {},
   "outputs": [
    {
     "data": {
      "text/plain": [
       "array([[ 0,  0,  0],\n",
       "       [ 8,  0,  0],\n",
       "       [16,  0,  0],\n",
       "       [ 8,  4,  0]])"
      ]
     },
     "execution_count": 4,
     "metadata": {},
     "output_type": "execute_result"
    }
   ],
   "source": [
    "MN"
   ]
  },
  {
   "cell_type": "code",
   "execution_count": 5,
   "id": "a7c00d3e",
   "metadata": {},
   "outputs": [],
   "source": [
    "Fr = np.array([[0],[-20e3],[0],[0],[8]])"
   ]
  },
  {
   "cell_type": "code",
   "execution_count": 6,
   "id": "c607977b",
   "metadata": {},
   "outputs": [],
   "source": [
    "K, Ke = mef.Kglobal_barra(MN, MC, E, A, glxn)"
   ]
  },
  {
   "cell_type": "code",
   "execution_count": 7,
   "id": "3f718be0",
   "metadata": {},
   "outputs": [],
   "source": [
    "F, U = mef.solve1D(K, r, s, Us, Fr)"
   ]
  },
  {
   "cell_type": "code",
   "execution_count": 8,
   "id": "dce74c9c",
   "metadata": {},
   "outputs": [
    {
     "name": "stdout",
     "output_type": "stream",
     "text": [
      "\u001b[4m\n",
      "Vector fuerzas\u001b[0m[KN]:\n",
      "\u001b[93mF = \n",
      "[[0.000]\n",
      " [9.996]\n",
      " [0.000]\n",
      " [-20.000]\n",
      " [0.000]\n",
      " [9.996]\n",
      " [0.000]\n",
      " [0.008]]\n",
      "\u001b[0m\n",
      "\u001b[4mVector desplazamientos\u001b[0m[mm]:\n",
      "\u001b[93mU =\n",
      " [[0.000]\n",
      " [0.000]\n",
      " [0.762]\n",
      " [-3.842]\n",
      " [1.523]\n",
      " [0.000]\n",
      " [0.762]\n",
      " [-3.652]] \n",
      "\n"
     ]
    }
   ],
   "source": [
    "np.set_printoptions(formatter={\"float\": lambda x: \"%0.3f\"% (x)})\n",
    "print('\\033[4m'+f'\\nVector fuerzas' +'\\033[0m'+'[KN]:\\n\\033[93m'+f'F = \\n{F/1000}\\n'+'\\033[0m')\n",
    "print('\\033[4m'+f'Vector desplazamientos'+'\\033[0m'+'[mm]:\\n\\033[93m'+ f'U =\\n {U*1000} \\n')"
   ]
  },
  {
   "cell_type": "code",
   "execution_count": null,
   "id": "03513fac",
   "metadata": {},
   "outputs": [],
   "source": []
  }
 ],
 "metadata": {
  "kernelspec": {
   "display_name": "Python 3 (ipykernel)",
   "language": "python",
   "name": "python3"
  },
  "language_info": {
   "codemirror_mode": {
    "name": "ipython",
    "version": 3
   },
   "file_extension": ".py",
   "mimetype": "text/x-python",
   "name": "python",
   "nbconvert_exporter": "python",
   "pygments_lexer": "ipython3",
   "version": "3.9.12"
  }
 },
 "nbformat": 4,
 "nbformat_minor": 5
}
