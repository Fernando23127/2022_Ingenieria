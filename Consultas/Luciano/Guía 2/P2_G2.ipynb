{
 "cells": [
  {
   "cell_type": "markdown",
   "id": "65f01024",
   "metadata": {},
   "source": [
    "$$\\LARGE\n",
    "\\underline\n",
    "{\n",
    "\\textbf\n",
    "    {Problema 2}\n",
    "}\n",
    "$$"
   ]
  },
  {
   "cell_type": "markdown",
   "id": "0409ad2c",
   "metadata": {},
   "source": [
    "Considere el entramado mostrado en la figura, con una fuerza aplicada de 20 kN. Calcule los\n",
    "desplazamientos de cada uno de los nodos y las tensiones que sufre cada elemento. Todos los\n",
    "elementos tienen $E = 210\\ GPa$ y una sección de $10 cm^{2}$, excepto el elemento 3, que tiene una\n",
    "sección de $20 cm^{2}$. Los elementos 2 y 5 tienen una longitud de 8 metros y el elemento 3 de 4\n",
    "metros."
   ]
  },
  {
   "cell_type": "markdown",
   "id": "f6f38730",
   "metadata": {},
   "source": [
    "<center><img src=\"ImgProb02G02.png\"></center>"
   ]
  },
  {
   "cell_type": "code",
   "execution_count": 1,
   "id": "47b53e80",
   "metadata": {},
   "outputs": [],
   "source": [
    "import numpy as np\n",
    "import MEF as mef"
   ]
  },
  {
   "cell_type": "code",
   "execution_count": 2,
   "id": "aeab905d",
   "metadata": {},
   "outputs": [],
   "source": [
    "glxn = 2  # grados de libertad por nodo"
   ]
  },
  {
   "cell_type": "code",
   "execution_count": 3,
   "id": "25709c5f",
   "metadata": {},
   "outputs": [],
   "source": [
    "MN = np.array([[0,0,0],[8,0,0],[16,0,0],[8,4,0]])  # pos de cada nodo  # metros"
   ]
  },
  {
   "cell_type": "code",
   "execution_count": 4,
   "id": "ad9cc51a",
   "metadata": {},
   "outputs": [],
   "source": [
    "#MC = np.array([[0,3],[0,1],[1,3],[2,3],[1,2]])  # ensamble entre elementos\n",
    "MC = np.array([[0,1], [1,2], [0,3], [2,3], [1,3]])"
   ]
  },
  {
   "cell_type": "code",
   "execution_count": 5,
   "id": "9a303f8e",
   "metadata": {},
   "outputs": [],
   "source": [
    "E = np.array([210,210,210,210,210])*1e9 # GPa"
   ]
  },
  {
   "cell_type": "code",
   "execution_count": 6,
   "id": "000dba46",
   "metadata": {},
   "outputs": [],
   "source": [
    "#A = np.array([10,10,20,10,10])/(100**2)  # m2\n",
    "A = np.array([10,10,10,10,10])/(100**2)  # m2"
   ]
  },
  {
   "cell_type": "code",
   "execution_count": 7,
   "id": "46f2837a",
   "metadata": {},
   "outputs": [],
   "source": [
    "Nn = MN.shape[0]  # cantidad de nodos\n",
    "Ne, Nnxe = MC.shape"
   ]
  },
  {
   "cell_type": "code",
   "execution_count": 8,
   "id": "01bd93c0",
   "metadata": {},
   "outputs": [],
   "source": [
    "K = mef.Kglobal_barra(MN, MC, E, A, Ne, Nn, glxn)"
   ]
  },
  {
   "cell_type": "code",
   "execution_count": 9,
   "id": "636e3ded",
   "metadata": {},
   "outputs": [
    {
     "data": {
      "text/plain": [
       "array([[ 4.50329710e+07,  9.39148551e+06, -2.62500000e+07,\n",
       "         0.00000000e+00,  0.00000000e+00,  0.00000000e+00,\n",
       "        -1.87829710e+07, -9.39148551e+06],\n",
       "       [ 9.39148551e+06,  4.69574275e+06,  0.00000000e+00,\n",
       "         0.00000000e+00,  0.00000000e+00,  0.00000000e+00,\n",
       "        -9.39148551e+06, -4.69574275e+06],\n",
       "       [-2.62500000e+07,  0.00000000e+00,  5.25000000e+07,\n",
       "         0.00000000e+00, -2.62500000e+07,  0.00000000e+00,\n",
       "         0.00000000e+00,  0.00000000e+00],\n",
       "       [ 0.00000000e+00,  0.00000000e+00,  0.00000000e+00,\n",
       "         5.25000000e+07,  0.00000000e+00,  0.00000000e+00,\n",
       "         0.00000000e+00, -5.25000000e+07],\n",
       "       [ 0.00000000e+00,  0.00000000e+00, -2.62500000e+07,\n",
       "         0.00000000e+00,  4.50329710e+07, -9.39148551e+06,\n",
       "        -1.87829710e+07,  9.39148551e+06],\n",
       "       [ 0.00000000e+00,  0.00000000e+00,  0.00000000e+00,\n",
       "         0.00000000e+00, -9.39148551e+06,  4.69574275e+06,\n",
       "         9.39148551e+06, -4.69574275e+06],\n",
       "       [-1.87829710e+07, -9.39148551e+06,  0.00000000e+00,\n",
       "         0.00000000e+00, -1.87829710e+07,  9.39148551e+06,\n",
       "         3.75659420e+07, -3.72529030e-09],\n",
       "       [-9.39148551e+06, -4.69574275e+06,  0.00000000e+00,\n",
       "        -5.25000000e+07,  9.39148551e+06, -4.69574275e+06,\n",
       "        -3.72529030e-09,  6.18914855e+07]])"
      ]
     },
     "execution_count": 9,
     "metadata": {},
     "output_type": "execute_result"
    }
   ],
   "source": [
    "K"
   ]
  },
  {
   "cell_type": "markdown",
   "id": "1fc74ac1",
   "metadata": {},
   "source": [
    "te daras cuenta de que es muy dificil leer la matriz así. en general se pueden hacer un par de cosas para mejorar la legibilidad."
   ]
  },
  {
   "cell_type": "markdown",
   "id": "36e44061",
   "metadata": {},
   "source": [
    "1. numpy printoptions:"
   ]
  },
  {
   "cell_type": "code",
   "execution_count": 14,
   "id": "27be4179",
   "metadata": {},
   "outputs": [],
   "source": [
    "np.set_printoptions(precision=2, linewidth=150)"
   ]
  },
  {
   "cell_type": "markdown",
   "id": "58053572",
   "metadata": {},
   "source": [
    "2. Matar los componentes que son en realidad error numerico"
   ]
  },
  {
   "cell_type": "code",
   "execution_count": 15,
   "id": "46ed9de8",
   "metadata": {},
   "outputs": [
    {
     "data": {
      "text/plain": [
       "61891485.50549912"
      ]
     },
     "execution_count": 15,
     "metadata": {},
     "output_type": "execute_result"
    }
   ],
   "source": [
    "K.max()"
   ]
  },
  {
   "cell_type": "code",
   "execution_count": 16,
   "id": "e9cf05f5",
   "metadata": {},
   "outputs": [],
   "source": [
    "K [np.abs(K) < 1e-16] = 0"
   ]
  },
  {
   "cell_type": "code",
   "execution_count": 18,
   "id": "6bdb3149",
   "metadata": {},
   "outputs": [
    {
     "data": {
      "text/plain": [
       "array([[ 7.28e-01,  1.52e-01, -4.24e-01,  0.00e+00,  0.00e+00,  0.00e+00, -3.03e-01, -1.52e-01],\n",
       "       [ 1.52e-01,  7.59e-02,  0.00e+00,  0.00e+00,  0.00e+00,  0.00e+00, -1.52e-01, -7.59e-02],\n",
       "       [-4.24e-01,  0.00e+00,  8.48e-01,  0.00e+00, -4.24e-01,  0.00e+00,  0.00e+00,  0.00e+00],\n",
       "       [ 0.00e+00,  0.00e+00,  0.00e+00,  8.48e-01,  0.00e+00,  0.00e+00,  0.00e+00, -8.48e-01],\n",
       "       [ 0.00e+00,  0.00e+00, -4.24e-01,  0.00e+00,  7.28e-01, -1.52e-01, -3.03e-01,  1.52e-01],\n",
       "       [ 0.00e+00,  0.00e+00,  0.00e+00,  0.00e+00, -1.52e-01,  7.59e-02,  1.52e-01, -7.59e-02],\n",
       "       [-3.03e-01, -1.52e-01,  0.00e+00,  0.00e+00, -3.03e-01,  1.52e-01,  6.07e-01, -6.02e-17],\n",
       "       [-1.52e-01, -7.59e-02,  0.00e+00, -8.48e-01,  1.52e-01, -7.59e-02, -6.02e-17,  1.00e+00]])"
      ]
     },
     "execution_count": 18,
     "metadata": {},
     "output_type": "execute_result"
    }
   ],
   "source": [
    "K/K.max()"
   ]
  },
  {
   "cell_type": "code",
   "execution_count": null,
   "id": "22d46d78",
   "metadata": {},
   "outputs": [],
   "source": []
  }
 ],
 "metadata": {
  "kernelspec": {
   "display_name": "Python 3 (ipykernel)",
   "language": "python",
   "name": "python3"
  },
  "language_info": {
   "codemirror_mode": {
    "name": "ipython",
    "version": 3
   },
   "file_extension": ".py",
   "mimetype": "text/x-python",
   "name": "python",
   "nbconvert_exporter": "python",
   "pygments_lexer": "ipython3",
   "version": "3.9.12"
  }
 },
 "nbformat": 4,
 "nbformat_minor": 5
}
