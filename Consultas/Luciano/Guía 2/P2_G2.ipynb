{
 "cells": [
  {
   "cell_type": "markdown",
   "id": "63d82d1f-dd65-42ad-8652-d5944dfc3324",
   "metadata": {},
   "source": [
    "$$\\LARGE\n",
    "\\underline\n",
    "{\n",
    "\\textbf\n",
    "    {Problema 2}\n",
    "}\n",
    "$$"
   ]
  },
  {
   "cell_type": "markdown",
   "id": "fc84867c-67b4-434e-8460-56081d93cd64",
   "metadata": {},
   "source": [
    "Considere el entramado mostrado en la figura, con una fuerza aplicada de 20 kN. Calcule los\n",
    "desplazamientos de cada uno de los nodos y las tensiones que sufre cada elemento. Todos los\n",
    "elementos tienen $E = 210\\ GPa$ y una sección de $10 cm^{2}$, excepto el elemento 3, que tiene una\n",
    "sección de $20 cm^{2}$. Los elementos 2 y 5 tienen una longitud de 8 metros y el elemento 3 de 4\n",
    "metros."
   ]
  },
  {
   "cell_type": "markdown",
   "id": "2054032f-8684-427a-a73f-179ccdfaeffb",
   "metadata": {},
   "source": [
    "<center><img src=\"ImgProb02G02.png\"></center>"
   ]
  },
  {
   "cell_type": "code",
   "execution_count": 1,
   "id": "1e2213dd-2056-4cdb-bfa0-5839c80f37aa",
   "metadata": {},
   "outputs": [],
   "source": [
    "import numpy as np\n",
    "import MEF as mef"
   ]
  },
  {
   "cell_type": "code",
   "execution_count": 2,
   "id": "5f07a96a-e281-483e-8b14-f81bc22427b2",
   "metadata": {},
   "outputs": [],
   "source": [
    "glxn = 2  # grados de libertad por nodo"
   ]
  },
  {
   "cell_type": "code",
   "execution_count": 3,
   "id": "34c96bfc-0e46-4e6b-8309-9a19b30c1a04",
   "metadata": {},
   "outputs": [],
   "source": [
    "MN = np.array([[0,0,0],[8,0,0],[16,0,0],[8,4,0]])  # pos de cada nodo  # metros"
   ]
  },
  {
   "cell_type": "code",
   "execution_count": 4,
   "id": "6a9f3328-2f27-43f6-abcb-011910c8129c",
   "metadata": {},
   "outputs": [],
   "source": [
    "MC = np.array([[0,3],[0,1],[1,3],[2,3],[1,2]])  # ensamble entre elementos"
   ]
  },
  {
   "cell_type": "code",
   "execution_count": 5,
   "id": "9793e68b-b3f2-4c02-8a69-dbf96bc2f5c4",
   "metadata": {},
   "outputs": [],
   "source": [
    "E = np.array([210,210,210,210,210])  # GPa"
   ]
  },
  {
   "cell_type": "code",
   "execution_count": 6,
   "id": "43d5bc71-585c-4626-ac09-474fe1304df7",
   "metadata": {},
   "outputs": [],
   "source": [
    "A = np.array([10,10,20,10,10])/(100**2)  # m2"
   ]
  },
  {
   "cell_type": "code",
   "execution_count": 7,
   "id": "c0919d71-dc5f-498b-8fd2-7a1e09c1488b",
   "metadata": {},
   "outputs": [],
   "source": [
    "Nn = MN.shape[0]  # cantidad de nodos\n",
    "Ne, Nnxe = MC.shape"
   ]
  },
  {
   "cell_type": "code",
   "execution_count": 8,
   "id": "a648cf8a-b240-44f2-9842-abc0f380b97c",
   "metadata": {},
   "outputs": [],
   "source": [
    "K = mef.Kglobal_barra(MN, MC, E, A, Ne, Nn, glxn)"
   ]
  },
  {
   "cell_type": "code",
   "execution_count": 9,
   "id": "5ae546b6-7370-4658-90b7-ce16dccf2ea7",
   "metadata": {},
   "outputs": [
    {
     "data": {
      "text/plain": [
       "array([[ 4.50329710e-02,  9.39148551e-03, -2.62500000e-02,\n",
       "         0.00000000e+00,  0.00000000e+00,  0.00000000e+00,\n",
       "        -1.87829710e-02, -9.39148551e-03],\n",
       "       [ 9.39148551e-03,  4.69574275e-03,  0.00000000e+00,\n",
       "         0.00000000e+00,  0.00000000e+00,  0.00000000e+00,\n",
       "        -9.39148551e-03, -4.69574275e-03],\n",
       "       [-2.62500000e-02,  0.00000000e+00,  5.25000000e-02,\n",
       "         6.42939570e-18, -2.62500000e-02,  0.00000000e+00,\n",
       "        -3.93686943e-34, -6.42939570e-18],\n",
       "       [ 0.00000000e+00,  0.00000000e+00,  6.42939570e-18,\n",
       "         1.05000000e-01,  0.00000000e+00,  0.00000000e+00,\n",
       "        -6.42939570e-18, -1.05000000e-01],\n",
       "       [ 0.00000000e+00,  0.00000000e+00, -2.62500000e-02,\n",
       "         0.00000000e+00,  4.50329710e-02, -9.39148551e-03,\n",
       "        -1.87829710e-02,  9.39148551e-03],\n",
       "       [ 0.00000000e+00,  0.00000000e+00,  0.00000000e+00,\n",
       "         0.00000000e+00, -9.39148551e-03,  4.69574275e-03,\n",
       "         9.39148551e-03, -4.69574275e-03],\n",
       "       [-1.87829710e-02, -9.39148551e-03, -3.93686943e-34,\n",
       "        -6.42939570e-18, -1.87829710e-02,  9.39148551e-03,\n",
       "         3.75659420e-02,  3.46944695e-18],\n",
       "       [-9.39148551e-03, -4.69574275e-03, -6.42939570e-18,\n",
       "        -1.05000000e-01,  9.39148551e-03, -4.69574275e-03,\n",
       "         3.46944695e-18,  1.14391486e-01]])"
      ]
     },
     "execution_count": 9,
     "metadata": {},
     "output_type": "execute_result"
    }
   ],
   "source": [
    "K"
   ]
  }
 ],
 "metadata": {
  "kernelspec": {
   "display_name": "Python 3 (ipykernel)",
   "language": "python",
   "name": "python3"
  },
  "language_info": {
   "codemirror_mode": {
    "name": "ipython",
    "version": 3
   },
   "file_extension": ".py",
   "mimetype": "text/x-python",
   "name": "python",
   "nbconvert_exporter": "python",
   "pygments_lexer": "ipython3",
   "version": "3.9.10"
  }
 },
 "nbformat": 4,
 "nbformat_minor": 5
}
