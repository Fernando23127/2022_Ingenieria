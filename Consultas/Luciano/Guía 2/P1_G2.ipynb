{
 "cells": [
  {
   "cell_type": "markdown",
   "id": "2ceedd4e-4ecc-45b8-9a33-65547974c80f",
   "metadata": {},
   "source": [
    "$$\\LARGE\n",
    "\\underline\n",
    "{\n",
    "\\textbf\n",
    "    {Problema 1}\n",
    "}\n",
    "$$"
   ]
  },
  {
   "cell_type": "markdown",
   "id": "e93ce5ba-06fd-4f5b-afdb-848a126fe92a",
   "metadata": {},
   "source": [
    "Se desplaza el punto final del sistema de resortes mostrado en la figura, hasta unirlo a la pared.\n",
    "Todos los resortes tienen constantes k = 200 kN/m, siendo el desplazamiento final de δ = 20 mm.\n",
    "Determine los desplazamientos de cada uno de los nodos, las fuerzas en cada elemento y las fuerzas\n",
    "globales (reacción de la pared y F)\n"
   ]
  },
  {
   "cell_type": "markdown",
   "id": "246243b2-ae59-4886-bfb5-a6042c4bda70",
   "metadata": {},
   "source": [
    "<center><img src=\"ImgProb01G02.png\"></center>"
   ]
  },
  {
   "cell_type": "markdown",
   "id": "1d95168d-3ffa-4cde-a607-126b3666fd71",
   "metadata": {},
   "source": [
    "$ \\large\n",
    "\\underline{\n",
    "\\textbf{Generalización}\n",
    "}\n",
    "$"
   ]
  },
  {
   "cell_type": "markdown",
   "id": "377aca0b-dc63-43d3-b738-55c1b3d04c51",
   "metadata": {},
   "source": [
    "$\\large\n",
    "K_{i,j}u_{j}=f_{i}\n",
    "$"
   ]
  },
  {
   "cell_type": "markdown",
   "id": "0fc603dc-8e47-472d-8906-98244da77c03",
   "metadata": {},
   "source": [
    "En este conjunto de ecuaciones existe un subconjunto que corresponde a aquellas donde los desplazamientos $u$ son incógnitas y las fuerzas $F$ son dadas. Nombremos $r$ al índice que define este subconjunto, de manera que las ecuaciones pueden reescribirse como:"
   ]
  },
  {
   "cell_type": "markdown",
   "id": "3e1e2047-7e39-415c-b8c1-d15a27b12c0f",
   "metadata": {},
   "source": [
    "$\\large\n",
    "K_{r,k}u_{j}=f_{r}\n",
    "$"
   ]
  },
  {
   "cell_type": "markdown",
   "id": "92ecb808-5f19-4811-a2c7-3baffbbebabd",
   "metadata": {},
   "source": [
    "Como el indice $j$ recorre todos los grados de libertad, es posible separar o particionar este índice entre los grados de libertad vinculados $s$ y las incógnitas $r'$, de manera que el sistema puede reordenarse de manera de separar un término para los vínculos y otro para las incógnitas:"
   ]
  },
  {
   "cell_type": "markdown",
   "id": "d4834d5e-0846-4c4d-a95d-f09b44632de7",
   "metadata": {},
   "source": [
    "$\\large\n",
    "K_{r,r'}u_{r'}+K_{r,s}u_{s}=F_{r}\n",
    "$"
   ]
  },
  {
   "cell_type": "markdown",
   "id": "9dd276ef-9e09-4de3-a27e-28a0c525c11b",
   "metadata": {},
   "source": [
    "Por último, puede reordenarse de manera que solo aparezcan los grados de libertad incógnita a la derecha de la ecuación:"
   ]
  },
  {
   "cell_type": "markdown",
   "id": "d05ec273-dc22-4490-8b4f-cc072308aaaf",
   "metadata": {},
   "source": [
    "$ \\large\n",
    "K_{r,r'}u_{r'}=F_{r}-K_{r,s}u_{s}\n",
    "$"
   ]
  },
  {
   "cell_type": "markdown",
   "id": "27a8f03e-4c00-4288-938e-a259d5a1971d",
   "metadata": {},
   "source": [
    "Que se resuelve rápidamente:"
   ]
  },
  {
   "cell_type": "markdown",
   "id": "aa91c30b-7cd4-4e9b-8fff-44c6f7889d9e",
   "metadata": {},
   "source": [
    "$ \\large\n",
    "u_{r'}=K_{r,r'}[F_{r}-K_{r,s}u_{s}]\n",
    "$"
   ]
  },
  {
   "cell_type": "markdown",
   "id": "77272f6d-05b4-4922-8eca-638ad019b8c5",
   "metadata": {},
   "source": [
    "Una vez que se conocen todos los $u_{r}$, pueden resolverse las fuerzas de vínculo:"
   ]
  },
  {
   "cell_type": "markdown",
   "id": "308d4348-3a8b-4b48-8ef3-89199fa4301a",
   "metadata": {},
   "source": [
    "$ \\large\n",
    "F_{s}=K_{s,j}u_{j}\n",
    "$"
   ]
  },
  {
   "cell_type": "markdown",
   "id": "054c2e70-9ce9-4aa9-87b3-5460d86a452d",
   "metadata": {},
   "source": [
    "$$\n",
    "$$"
   ]
  },
  {
   "cell_type": "markdown",
   "id": "da741be8-7d28-4232-9140-b54e1bdb5fcc",
   "metadata": {},
   "source": [
    "$ \\large\n",
    "\\underline\n",
    "{\\textbf{Matriz de conectividad}}\n",
    "$"
   ]
  },
  {
   "cell_type": "markdown",
   "id": "1df65c10-cfb3-4488-9c5a-8f12ec3a4a8c",
   "metadata": {},
   "source": [
    "La matriz de conectividad, en cada fila, indica que nodos tiene conectados en cada barra. Se observa que, por ejemplo, la barra 1 posee los nodos 1 y 2, la barra 2 los nodos 2 y 3, y la barra 3 los nodos 3 y 1. "
   ]
  },
  {
   "cell_type": "markdown",
   "id": "edaa7f5f-07d5-4be5-b367-357d574b6be3",
   "metadata": {},
   "source": [
    "$$\n",
    "MC= \\begin{pmatrix}\n",
    "1&2\\\\2&3\\\\3&1\n",
    "\\end{pmatrix}\n",
    "$$"
   ]
  },
  {
   "cell_type": "markdown",
   "id": "fb171cd0-506e-41ee-9d82-f5543e3f0244",
   "metadata": {},
   "source": [
    "$ \\large\n",
    "\\underline{\n",
    "\\textbf{Programación}\n",
    "}\n",
    "$"
   ]
  },
  {
   "cell_type": "code",
   "execution_count": 1,
   "id": "c9fb77d5-56e7-4ba6-8517-1efc0d18b60b",
   "metadata": {},
   "outputs": [],
   "source": [
    "import numpy as np\n",
    "import matplotlib.pyplot as plt\n",
    "import MEF as mef\n",
    "import copy"
   ]
  },
  {
   "cell_type": "code",
   "execution_count": 2,
   "id": "6ec40709-46aa-4a52-88a6-f310c645c3f1",
   "metadata": {},
   "outputs": [],
   "source": [
    "r = np.array([1,2])  # Posición de los desplazamientos incognitos\n",
    "s = np.array([0,3])  # Posición de los desplazamientos conocidos\n",
    "Us = np.array([0, 0.02]).reshape([-1,1])\n",
    "Fr = np.array([0, 0]).reshape([-1,1])\n",
    "\n",
    "k1=k2=k3=200\n",
    "\n",
    "K = np.array([[k1,-k1,0,0],[-k1,k1+k2,-k2,0],[0,-k2,k2+k3,-k3],[0,0,-k3,k2]])"
   ]
  },
  {
   "cell_type": "code",
   "execution_count": 3,
   "id": "fb74b451-7f45-4df7-881b-39796bb00dfc",
   "metadata": {},
   "outputs": [],
   "source": [
    "F, U = mef.solve(K, r, s, Us, Fr)"
   ]
  },
  {
   "cell_type": "markdown",
   "id": "5e4304b2-88f8-4148-ba1f-d36839c6ae13",
   "metadata": {},
   "source": [
    "$$\n",
    "$$"
   ]
  },
  {
   "cell_type": "markdown",
   "id": "e6d65083-97f8-4c98-a709-95ede2859325",
   "metadata": {},
   "source": [
    "$ \\large\n",
    "\\underline\n",
    "{\\textbf{Resultados}}\n",
    "$"
   ]
  },
  {
   "cell_type": "code",
   "execution_count": 4,
   "id": "854660e2-e96c-4d37-ab82-d5ba370c065b",
   "metadata": {},
   "outputs": [
    {
     "name": "stdout",
     "output_type": "stream",
     "text": [
      "\u001b[4m\n",
      "Vector fuerzas\u001b[0m:\n",
      "\u001b[93mF = \n",
      "[[-1.33333333]\n",
      " [ 0.        ]\n",
      " [ 0.        ]\n",
      " [ 1.33333333]]\n",
      " \n",
      "\u001b[0m\n",
      "\u001b[4mVector desplazamientos\u001b[0m:\n",
      "\u001b[93mU =\n",
      " [[0.        ]\n",
      " [0.00666667]\n",
      " [0.01333333]\n",
      " [0.02      ]] \n",
      "\n"
     ]
    }
   ],
   "source": [
    "print('\\033[4m'+f'\\nVector fuerzas' +'\\033[0m'+':\\n\\033[93m'+f'F = \\n{F}\\n \\n'+'\\033[0m')\n",
    "print('\\033[4m'+f'Vector desplazamientos'+'\\033[0m'+':\\n\\033[93m'+ f'U =\\n {U} \\n')"
   ]
  }
 ],
 "metadata": {
  "kernelspec": {
   "display_name": "Python 3 (ipykernel)",
   "language": "python",
   "name": "python3"
  },
  "language_info": {
   "codemirror_mode": {
    "name": "ipython",
    "version": 3
   },
   "file_extension": ".py",
   "mimetype": "text/x-python",
   "name": "python",
   "nbconvert_exporter": "python",
   "pygments_lexer": "ipython3",
   "version": "3.9.10"
  }
 },
 "nbformat": 4,
 "nbformat_minor": 5
}
