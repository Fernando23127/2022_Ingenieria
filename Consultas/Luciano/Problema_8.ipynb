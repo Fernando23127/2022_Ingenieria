{
 "cells": [
  {
   "cell_type": "markdown",
   "id": "e5aff82d-1ac1-4122-bbe4-751cbcf76bd1",
   "metadata": {},
   "source": [
    "$$ \n",
    "\\Large \\underline{\\textbf{Problema 8}}\n",
    "$$"
   ]
  },
  {
   "cell_type": "markdown",
   "id": "2a408cf8-3933-4db3-82f3-6f0de84c1432",
   "metadata": {},
   "source": [
    "Evalúe, utilizando los métodos de Euler, de Heun y de Runge Kutta de cuarto orden, la ecuación diferencial"
   ]
  },
  {
   "cell_type": "markdown",
   "id": "e38d1efb-9be3-4432-b23c-b49dae36d451",
   "metadata": {},
   "source": [
    "$$ \\large\n",
    "\\frac{dy}{dx}=4e^{0.8x}-0.5y\n",
    "$$"
   ]
  },
  {
   "cell_type": "markdown",
   "id": "307c565a-3a05-494c-90ee-613e6ae6c05e",
   "metadata": {},
   "source": [
    "con la condición de contorno y(0) = 2, desde x = 0 hasta x = 4, con varios tamaños de paso. Compare la\n",
    "exactitud de los diferentes métodos con el resultado exacto en x = 4. Grafique este error en función del esfuerzo\n",
    "de cálculo realizado (cantidad de veces que tuvo que evaluar la función). Compare la soluciones numéricas\n",
    "obtenidas, y(x), con la solución teórica"
   ]
  },
  {
   "cell_type": "markdown",
   "id": "008e7a16-218f-45bd-81c9-bc3d1396a418",
   "metadata": {},
   "source": [
    "$$ \\large\n",
    "y(x)=\\frac{4}{1.3}(e^{0.8x}-e^{-0.5x})+2e^{-0.5x}\n",
    "$$"
   ]
  },
  {
   "cell_type": "code",
   "execution_count": 1,
   "id": "173ad333-e258-48d8-b67c-141f70eba7dd",
   "metadata": {},
   "outputs": [],
   "source": [
    "import numpy as np\n",
    "import matplotlib.pyplot as plt"
   ]
  },
  {
   "cell_type": "markdown",
   "id": "99a867f2-6a70-44ba-9ac6-dbd5429b6e10",
   "metadata": {},
   "source": [
    "$ \\large \\textbf{\n",
    "Método de Euler}\n",
    "$"
   ]
  },
  {
   "cell_type": "code",
   "execution_count": null,
   "id": "91610754-a790-495d-8d18-da22a23713c9",
   "metadata": {},
   "outputs": [],
   "source": []
  },
  {
   "cell_type": "markdown",
   "id": "bb9ea631-cc75-4f9e-8f1e-0da7b80ac178",
   "metadata": {},
   "source": [
    "$ \\large \\textbf{\n",
    "Método de Heun}\n",
    "$"
   ]
  },
  {
   "cell_type": "code",
   "execution_count": null,
   "id": "d44ea0c0-a00c-4464-8c73-b74b91faff1c",
   "metadata": {},
   "outputs": [],
   "source": []
  },
  {
   "cell_type": "markdown",
   "id": "dfe57154-a0d7-46df-b08a-f68229fdcb1d",
   "metadata": {},
   "source": [
    "$ \\large \\textbf{\n",
    "Método de Runge-Kutta}\n",
    "$"
   ]
  },
  {
   "cell_type": "code",
   "execution_count": null,
   "id": "3f528d57-2e6d-434b-bfa1-7eff7801f243",
   "metadata": {},
   "outputs": [],
   "source": []
  },
  {
   "cell_type": "markdown",
   "id": "711eff05-99ce-4d7e-93a3-309ea34095d5",
   "metadata": {},
   "source": [
    "$ \\large \\textbf{\n",
    "Gráfico el resultado exacto}\n",
    "$"
   ]
  },
  {
   "cell_type": "code",
   "execution_count": 6,
   "id": "73766761-04f4-4149-9896-c4f4ff523b2e",
   "metadata": {},
   "outputs": [
    {
     "data": {
      "text/plain": [
       "Text(0.5, 1.0, 'Resultado exacto')"
      ]
     },
     "execution_count": 6,
     "metadata": {},
     "output_type": "execute_result"
    },
    {
     "data": {
      "image/png": "[encoded data removed]",
      "text/plain": [
       "<Figure size 432x288 with 1 Axes>"
      ]
     },
     "metadata": {
      "needs_background": "light"
     },
     "output_type": "display_data"
    }
   ],
   "source": [
    "x = np.linspace(0, 4, 10)\n",
    "y = []\n",
    "for i, xi in enumerate(x):\n",
    "    y.append(4/1.3*(np.exp(0.8*xi)-np.exp(-0.5*xi))+2*np.exp(-0.5*xi))\n",
    "\n",
    "plt.plot(x, y)\n",
    "plt.xlabel('x')\n",
    "plt.ylabel('y')\n",
    "plt.title('Resultado exacto')"
   ]
  }
 ],
 "metadata": {
  "kernelspec": {
   "display_name": "Python 3 (ipykernel)",
   "language": "python",
   "name": "python3"
  },
  "language_info": {
   "codemirror_mode": {
    "name": "ipython",
    "version": 3
   },
   "file_extension": ".py",
   "mimetype": "text/x-python",
   "name": "python",
   "nbconvert_exporter": "python",
   "pygments_lexer": "ipython3",
   "version": "3.9.10"
  }
 },
 "nbformat": 4,
 "nbformat_minor": 5
}
