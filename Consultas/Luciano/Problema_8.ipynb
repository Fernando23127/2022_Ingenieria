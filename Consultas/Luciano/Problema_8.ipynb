{
 "cells": [
  {
   "cell_type": "markdown",
   "id": "e5aff82d-1ac1-4122-bbe4-751cbcf76bd1",
   "metadata": {},
   "source": [
    "$$ \n",
    "\\Large \\underline{\\textbf{Problema 8}}\n",
    "$$"
   ]
  },
  {
   "cell_type": "markdown",
   "id": "2a408cf8-3933-4db3-82f3-6f0de84c1432",
   "metadata": {},
   "source": [
    "Evalúe, utilizando los métodos de Euler, de Heun y de Runge Kutta de cuarto orden, la ecuación diferencial"
   ]
  },
  {
   "cell_type": "markdown",
   "id": "e38d1efb-9be3-4432-b23c-b49dae36d451",
   "metadata": {},
   "source": [
    "$$ \\large\n",
    "\\frac{dy}{dx}=4e^{0.8x}-0.5y\n",
    "$$"
   ]
  },
  {
   "cell_type": "markdown",
   "id": "307c565a-3a05-494c-90ee-613e6ae6c05e",
   "metadata": {},
   "source": [
    "con la condición de contorno y(0) = 2, desde x = 0 hasta x = 4, con varios tamaños de paso. Compare la\n",
    "exactitud de los diferentes métodos con el resultado exacto en x = 4. Grafique este error en función del esfuerzo\n",
    "de cálculo realizado (cantidad de veces que tuvo que evaluar la función). Compare la soluciones numéricas\n",
    "obtenidas, y(x), con la solución teórica"
   ]
  },
  {
   "cell_type": "markdown",
   "id": "008e7a16-218f-45bd-81c9-bc3d1396a418",
   "metadata": {},
   "source": [
    "$$ \\large\n",
    "y(x)=\\frac{4}{1.3}(e^{0.8x}-e^{-0.5x})+2e^{-0.5x}\n",
    "$$"
   ]
  },
  {
   "cell_type": "code",
   "execution_count": 1,
   "id": "173ad333-e258-48d8-b67c-141f70eba7dd",
   "metadata": {},
   "outputs": [],
   "source": [
    "import numpy as np\n",
    "import matplotlib.pyplot as plt"
   ]
  },
  {
   "cell_type": "markdown",
   "id": "8877b9e4-d54c-4ec8-a999-f8a4d998bc81",
   "metadata": {},
   "source": [
    "$ \\large \\textbf\n",
    "{Datos del problema 7}\n",
    "$"
   ]
  },
  {
   "cell_type": "markdown",
   "id": "99a867f2-6a70-44ba-9ac6-dbd5429b6e10",
   "metadata": {
    "tags": []
   },
   "source": [
    "$ \\large \\textbf{\n",
    "Método de Euler}\n",
    "$"
   ]
  },
  {
   "cell_type": "code",
   "execution_count": 2,
   "id": "91610754-a790-495d-8d18-da22a23713c9",
   "metadata": {},
   "outputs": [],
   "source": [
    "def euler(p, x0=0, xf=4, y0=2):\n",
    "    x = np.linspace(x0, xf, p)\n",
    "    h = x[1]-x[0]\n",
    "    yeuler = [y0]\n",
    "    for i, xi in enumerate(x[:-1]):\n",
    "        fi = 4*np.exp(0.8*xi)-0.5*yeuler[i]\n",
    "        yeuler.append(yeuler[i]+fi*h)\n",
    "    return yeuler"
   ]
  },
  {
   "cell_type": "markdown",
   "id": "bb9ea631-cc75-4f9e-8f1e-0da7b80ac178",
   "metadata": {},
   "source": [
    "$ \\large \\textbf{\n",
    "Método de Heun}\n",
    "$"
   ]
  },
  {
   "cell_type": "code",
   "execution_count": 3,
   "id": "d44ea0c0-a00c-4464-8c73-b74b91faff1c",
   "metadata": {},
   "outputs": [],
   "source": [
    "def heun(p, x0=0, xf=4, y0=2):\n",
    "    yheun = [y0]\n",
    "    x = np.linspace(x0, xf, p)\n",
    "    h = x[1]-x[0]\n",
    "    for i, xi in enumerate(x[:-1]):\n",
    "        fi = 4*np.exp(0.8*xi)-0.5*yheun[i]  # f(ti,yi)\n",
    "        fi1 = yheun[i] + fi*h  # f(ti+1,yi+1)\n",
    "        yheun.append(yheun[i]+1/2*h*(fi+fi1))\n",
    "    return yheun"
   ]
  },
  {
   "cell_type": "markdown",
   "id": "dfe57154-a0d7-46df-b08a-f68229fdcb1d",
   "metadata": {},
   "source": [
    "$ \\large \\textbf{\n",
    "Método de Runge-Kutta}\n",
    "$"
   ]
  },
  {
   "cell_type": "code",
   "execution_count": 4,
   "id": "3f528d57-2e6d-434b-bfa1-7eff7801f243",
   "metadata": {},
   "outputs": [],
   "source": [
    "def rk4(p, x0=0, xf=4, y0=2):\n",
    "    yrk = [y0]\n",
    "    x = np.linspace(x0, xf, p)\n",
    "    h = x[1]-x[0]\n",
    "    for i, xi in enumerate(x[:-1]):\n",
    "        k1 = 4*np.exp(0.8*xi)-0.5*yrk[i]\n",
    "        x2 = xi + 1/2*h\n",
    "        y2 = yrk[i] + 1/2*k1*h\n",
    "        k2 = 4*np.exp(0.8*x2)-0.5*y2\n",
    "        x3 = xi + 1/2*h\n",
    "        y3 = yrk[i] + 1/2*k2*h\n",
    "        k3 = 4*np.exp(0.8*x3)-0.5*y3\n",
    "        x4 = xi + h\n",
    "        y4 = yrk[i] + k3*h\n",
    "        k4 = 4*np.exp(0.8*x4)-0.5*y4\n",
    "        yrk.append(yrk[i]+1/6*(k1+2*k2+2*k3+k4)*h)\n",
    "    return yrk"
   ]
  },
  {
   "cell_type": "code",
   "execution_count": 5,
   "id": "73766761-04f4-4149-9896-c4f4ff523b2e",
   "metadata": {},
   "outputs": [
    {
     "data": {
      "text/plain": [
       "Text(0.5, 1.0, 'Comparación cada método')"
      ]
     },
     "execution_count": 5,
     "metadata": {},
     "output_type": "execute_result"
    },
    {
     "data": {
      "image/png": "[encoded data removed]",
      "text/plain": [
       "<Figure size 432x288 with 1 Axes>"
      ]
     },
     "metadata": {
      "needs_background": "light"
     },
     "output_type": "display_data"
    }
   ],
   "source": [
    "x = np.linspace(0, 4, 30)\n",
    "y = []\n",
    "for i, xi in enumerate(x):\n",
    "    y.append(4/1.3*(np.exp(0.8*xi)-np.exp(-0.5*xi))+2*np.exp(-0.5*xi))\n",
    "plt.plot(x, y, label='exacta')\n",
    "plt.plot(x, euler(30), label='euler')\n",
    "plt.plot(x, heun(30), label='heun')\n",
    "plt.plot(x, rk4(30), label='R-K 4to')\n",
    "plt.legend(loc='upper left')\n",
    "plt.xlabel('x')\n",
    "plt.ylabel('y')\n",
    "plt.title('Comparación cada método')"
   ]
  },
  {
   "cell_type": "code",
   "execution_count": 29,
   "id": "6511925f-f6ad-430c-a3d0-bd3968e2bf2a",
   "metadata": {},
   "outputs": [],
   "source": [
    "vectorpasos = np.logspace(1, 3, 20).astype(int)"
   ]
  },
  {
   "cell_type": "code",
   "execution_count": 30,
   "id": "47f3202c-2ed2-4835-9e47-b095ccfcd62c",
   "metadata": {},
   "outputs": [],
   "source": [
    "yeuler = [euler(p)[-1] for p in vectorpasos]\n",
    "yheun = [heun(p)[-1] for p in vectorpasos]\n",
    "yrk4 = [rk4(p)[-1] for p in vectorpasos]\n",
    "ereuler = np.abs((yeuler-y[-1])/yeuler)\n",
    "erheun = np.abs((yheun-y[-1])/yheun)\n",
    "errk4 = np.abs((yrk4-y[-1])/yrk4)"
   ]
  },
  {
   "cell_type": "code",
   "execution_count": 32,
   "id": "4b2d0abc-e71a-4f0d-8593-529bbc6ee702",
   "metadata": {},
   "outputs": [
    {
     "data": {
      "text/plain": [
       "Text(0.5, 1.0, 'Comparación cada método')"
      ]
     },
     "execution_count": 32,
     "metadata": {},
     "output_type": "execute_result"
    },
    {
     "data": {
      "image/png": "[encoded data removed]",
      "text/plain": [
       "<Figure size 432x288 with 1 Axes>"
      ]
     },
     "metadata": {
      "needs_background": "light"
     },
     "output_type": "display_data"
    }
   ],
   "source": [
    "plt.semilogy(vectorpasos, ereuler, label='euler')\n",
    "plt.semilogy(vectorpasos, erheun, label='heun')\n",
    "plt.semilogy(vectorpasos, errk4, label='R-K 4to')\n",
    "plt.legend(loc='upper right')\n",
    "plt.xlabel('N° de pasos')\n",
    "plt.ylabel('log(er)')\n",
    "plt.title('Comparación cada método')"
   ]
  },
  {
   "cell_type": "code",
   "execution_count": null,
   "id": "c419db65-3870-4f29-8e0c-f16dd778877d",
   "metadata": {},
   "outputs": [],
   "source": []
  }
 ],
 "metadata": {
  "kernelspec": {
   "display_name": "Python 3 (ipykernel)",
   "language": "python",
   "name": "python3"
  },
  "language_info": {
   "codemirror_mode": {
    "name": "ipython",
    "version": 3
   },
   "file_extension": ".py",
   "mimetype": "text/x-python",
   "name": "python",
   "nbconvert_exporter": "python",
   "pygments_lexer": "ipython3",
   "version": "3.9.10"
  }
 },
 "nbformat": 4,
 "nbformat_minor": 5
}
