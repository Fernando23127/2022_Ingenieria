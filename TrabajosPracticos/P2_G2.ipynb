{
 "cells": [
  {
   "cell_type": "markdown",
   "id": "63d82d1f-dd65-42ad-8652-d5944dfc3324",
   "metadata": {},
   "source": [
    "$$\\LARGE\n",
    "\\underline\n",
    "{\n",
    "\\textbf\n",
    "    {Problema 2}\n",
    "}\n",
    "$$"
   ]
  },
  {
   "cell_type": "markdown",
   "id": "fc84867c-67b4-434e-8460-56081d93cd64",
   "metadata": {},
   "source": [
    "Considere el entramado mostrado en la figura, con una fuerza aplicada de 20 kN. Calcule los\n",
    "desplazamientos de cada uno de los nodos y las tensiones que sufre cada elemento. Todos los\n",
    "elementos tienen $E = 210\\ GPa$ y una sección de $10 cm^{2}$, excepto el elemento 3, que tiene una\n",
    "sección de $20 cm^{2}$. Los elementos 2 y 5 tienen una longitud de 8 metros y el elemento 3 de 4\n",
    "metros."
   ]
  },
  {
   "cell_type": "markdown",
   "id": "2054032f-8684-427a-a73f-179ccdfaeffb",
   "metadata": {},
   "source": [
    "<center><img src=\"ImgProb02G02.png\"></center>"
   ]
  },
  {
   "cell_type": "code",
   "execution_count": 1,
   "id": "1e2213dd-2056-4cdb-bfa0-5839c80f37aa",
   "metadata": {},
   "outputs": [],
   "source": [
    "import numpy as np\n",
    "import MEF as mef"
   ]
  },
  {
   "cell_type": "code",
   "execution_count": 2,
   "id": "5f07a96a-e281-483e-8b14-f81bc22427b2",
   "metadata": {},
   "outputs": [],
   "source": [
    "glxn = 2  # grados de libertad por nodo"
   ]
  },
  {
   "cell_type": "code",
   "execution_count": 3,
   "id": "9793e68b-b3f2-4c02-8a69-dbf96bc2f5c4",
   "metadata": {},
   "outputs": [],
   "source": [
    "MN = np.array([[0,0,0],[8,0,0],[16,0,0],[8,4,0]])  # pos de cada nodo  # metros\n",
    "MC = np.array([[0,3],[0,1],[1,3],[2,3],[1,2]])  # ensamble entre elementos\n",
    "E = np.array([210,210,210,210,210])*1e9  # GPa\n",
    "A = np.array([10,10,20,10,10])/(100**2)  # m2\n",
    "\n",
    "s = np.array([0,1,5])\n",
    "r = mef.vector_complemento(s, MN, glxn)\n",
    "\n",
    "Fr = np.array([0,-20e3,0,0,0]).reshape([-1,1])\n",
    "Us = np.array([0, 0, 0]).reshape([-1,1])"
   ]
  },
  {
   "cell_type": "code",
   "execution_count": 4,
   "id": "747ecc65-ddd6-4c8e-a9ef-829ba0a0d3ac",
   "metadata": {},
   "outputs": [
    {
     "data": {
      "text/plain": [
       "array([0, 1, 5])"
      ]
     },
     "execution_count": 4,
     "metadata": {},
     "output_type": "execute_result"
    }
   ],
   "source": [
    "s"
   ]
  },
  {
   "cell_type": "code",
   "execution_count": 5,
   "id": "e3489334-09bd-41f1-b2bf-a9587791cc63",
   "metadata": {},
   "outputs": [
    {
     "data": {
      "text/plain": [
       "array([2, 3, 4, 6, 7])"
      ]
     },
     "execution_count": 5,
     "metadata": {},
     "output_type": "execute_result"
    }
   ],
   "source": [
    "r"
   ]
  },
  {
   "cell_type": "code",
   "execution_count": 6,
   "id": "a648cf8a-b240-44f2-9842-abc0f380b97c",
   "metadata": {},
   "outputs": [],
   "source": [
    "K, Ke = mef.Kglobal_barra(MN, MC, E, A, glxn)"
   ]
  },
  {
   "cell_type": "code",
   "execution_count": 7,
   "id": "f815b04b-6724-48b9-b5c5-2957b7edd6c5",
   "metadata": {},
   "outputs": [],
   "source": [
    "F, U = mef.solve1D(K, r, s, Us, Fr)"
   ]
  },
  {
   "cell_type": "code",
   "execution_count": 8,
   "id": "573191d6-c428-4c40-96e4-389127583d6f",
   "metadata": {},
   "outputs": [
    {
     "name": "stdout",
     "output_type": "stream",
     "text": [
      "\u001b[4m\n",
      "Vector fuerzas\u001b[0m[KN]:\n",
      "\u001b[93mF = \n",
      "[[0.00]\n",
      " [10.00]\n",
      " [0.00]\n",
      " [-20.00]\n",
      " [0.00]\n",
      " [10.00]\n",
      " [0.00]\n",
      " [0.00]]\n",
      "\u001b[0m\n",
      "\u001b[4mVector desplazamientos\u001b[0m[mm]:\n",
      "\u001b[93mU =\n",
      " [[0.00]\n",
      " [0.00]\n",
      " [0.76]\n",
      " [-3.84]\n",
      " [1.52]\n",
      " [0.00]\n",
      " [0.76]\n",
      " [-3.65]] \n",
      "\n"
     ]
    }
   ],
   "source": [
    "np.set_printoptions(formatter={\"float\": lambda x: \"%0.2f\"% (x)})\n",
    "print('\\033[4m'+f'\\nVector fuerzas' +'\\033[0m'+'[KN]:\\n\\033[93m'+f'F = \\n{F/1000}\\n'+'\\033[0m')\n",
    "print('\\033[4m'+f'Vector desplazamientos'+'\\033[0m'+'[mm]:\\n\\033[93m'+ f'U =\\n {U*1000} \\n')"
   ]
  },
  {
   "cell_type": "code",
   "execution_count": null,
   "id": "ac47912c-b095-4aca-8cc2-a4f3c354c456",
   "metadata": {},
   "outputs": [],
   "source": []
  }
 ],
 "metadata": {
  "kernelspec": {
   "display_name": "Python 3 (ipykernel)",
   "language": "python",
   "name": "python3"
  },
  "language_info": {
   "codemirror_mode": {
    "name": "ipython",
    "version": 3
   },
   "file_extension": ".py",
   "mimetype": "text/x-python",
   "name": "python",
   "nbconvert_exporter": "python",
   "pygments_lexer": "ipython3",
   "version": "3.9.10"
  }
 },
 "nbformat": 4,
 "nbformat_minor": 5
}
