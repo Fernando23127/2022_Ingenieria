{
 "cells": [
  {
   "cell_type": "markdown",
   "id": "f64e2f50",
   "metadata": {},
   "source": [
    "# Problema 2\n"
   ]
  },
  {
   "cell_type": "code",
   "execution_count": 1,
   "id": "29fa7859",
   "metadata": {},
   "outputs": [],
   "source": [
    "import numpy as np\n",
    "import fem"
   ]
  },
  {
   "cell_type": "code",
   "execution_count": 2,
   "id": "5d98a2df",
   "metadata": {},
   "outputs": [],
   "source": [
    "MN =  np.array([[0,0,0], [8,0,0], [16,0,0], [8,4,0]]) # matriz de nodos\n",
    "MC = np.array([[0,3], [0,1], [1,3], [2,3], [1,2]]) # matriz de conectividad\n",
    "glxn = 2 # grados de libertd por nodo\n",
    "\n",
    "E = np.array(5*[210e9])\n",
    "A = np.array([10, 10, 20, 10, 10])*1e-4\n",
    "\n",
    "Nn = MN.shape[0] #cantidad de nodos\n",
    "Ne, Nnxe = MC.shape # Cantidad de elementos, cantidad de nodos por elementos"
   ]
  },
  {
   "cell_type": "code",
   "execution_count": 3,
   "id": "48565b07",
   "metadata": {},
   "outputs": [],
   "source": [
    "def k_elemento_barra(MC, MN, Ee, Ae, e):\n",
    "    Nn = MN.shape\n",
    "    nodo1 = MC[e, 0]\n",
    "    nodo2 = MC[e, 1]\n",
    "    coord_nodo1 = np.array([MN[nodo2, 0]-MN[nodo1, 0], MN[nodo2, 1]-MN[nodo1, 1]])\n",
    "    long = np.linalg.norm(coord_nodo1)\n",
    "    phi = np.arctan2(coord_nodo1[1], coord_nodo1[0])\n",
    "    c = np.cos(phi)\n",
    "    s = np.sin(phi)\n",
    "     \n",
    "    ke = Ee*Ae/long\n",
    "    \n",
    "    k_elemento = ke*np.array([ [c**2,   c*s,  -c**2, -c*s],\n",
    "                            [c*s,    s**2, -c*s,  -s**2],\n",
    "                            [-c**2, -c*s,   c**2,  c*s],\n",
    "                            [-c*s,  -s**2,  c*s,   s**2]])\n",
    "    return k_elemento"
   ]
  },
  {
   "cell_type": "code",
   "execution_count": 4,
   "id": "755cbf79",
   "metadata": {},
   "outputs": [
    {
     "data": {
      "text/plain": [
       "array([[ 4.50329710e+07,  9.39148551e+06, -2.62500000e+07,\n",
       "         0.00000000e+00,  0.00000000e+00,  0.00000000e+00,\n",
       "        -1.87829710e+07, -9.39148551e+06],\n",
       "       [ 9.39148551e+06,  4.69574275e+06,  0.00000000e+00,\n",
       "         0.00000000e+00,  0.00000000e+00,  0.00000000e+00,\n",
       "        -9.39148551e+06, -4.69574275e+06],\n",
       "       [-2.62500000e+07,  0.00000000e+00,  5.25000000e+07,\n",
       "         6.42939570e-09, -2.62500000e+07,  0.00000000e+00,\n",
       "        -3.93686943e-25, -6.42939570e-09],\n",
       "       [ 0.00000000e+00,  0.00000000e+00,  6.42939570e-09,\n",
       "         1.05000000e+08,  0.00000000e+00,  0.00000000e+00,\n",
       "        -6.42939570e-09, -1.05000000e+08],\n",
       "       [ 0.00000000e+00,  0.00000000e+00, -2.62500000e+07,\n",
       "         0.00000000e+00,  4.50329710e+07, -9.39148551e+06,\n",
       "        -1.87829710e+07,  9.39148551e+06],\n",
       "       [ 0.00000000e+00,  0.00000000e+00,  0.00000000e+00,\n",
       "         0.00000000e+00, -9.39148551e+06,  4.69574275e+06,\n",
       "         9.39148551e+06, -4.69574275e+06],\n",
       "       [-1.87829710e+07, -9.39148551e+06, -3.93686943e-25,\n",
       "        -6.42939570e-09, -1.87829710e+07,  9.39148551e+06,\n",
       "         3.75659420e+07,  1.86264515e-09],\n",
       "       [-9.39148551e+06, -4.69574275e+06, -6.42939570e-09,\n",
       "        -1.05000000e+08,  9.39148551e+06, -4.69574275e+06,\n",
       "         1.86264515e-09,  1.14391486e+08]])"
      ]
     },
     "execution_count": 4,
     "metadata": {},
     "output_type": "execute_result"
    }
   ],
   "source": [
    "k_elementos = {}\n",
    "k_global = np.zeros((Nn*glxn, Nn*glxn))\n",
    "# print(k_global)\n",
    "for e in range(Ne):\n",
    "    k_elementos[e] = k_elemento_barra(MC, MN, E[e], A[e], e)\n",
    "    fe = np.abs(k_elementos[e].max()) #factor de escala\n",
    "#     print(fe)\n",
    "    for i in range(Nnxe):\n",
    "        rango_i = np.linspace(i*glxn, (i+1)*glxn-1, Nnxe, dtype= int)\n",
    "        rango_n_i = np.linspace(MC[e,i]*glxn, (MC[e,i]+1)*glxn-1, Nnxe, dtype= int)\n",
    "        for j in range(Nnxe):\n",
    "            rango_j = np.linspace(j*glxn, (j+1)*glxn-1, Nnxe, dtype= int)\n",
    "            rango_n_j = np.linspace(MC[e,j]*glxn, (MC[e,j]+1)*glxn-1, Nnxe, dtype= int)\n",
    "            k_global[np.ix_(rango_n_i, rango_n_j)] += k_elementos[e][np.ix_(rango_i, rango_j)]\n",
    "k_global"
   ]
  },
  {
   "cell_type": "code",
   "execution_count": 5,
   "id": "dcb67499",
   "metadata": {},
   "outputs": [],
   "source": [
    "N = Nn*glxn\n",
    "s = np.array([0,1,5])\n",
    "r = np.array([i for i in range(N) if i not in s])\n",
    "# otra forma de hacerlo\n",
    "#r = list(range(N))\n",
    "# r = [r.remove(thiss) for thiss in s]\n",
    "\n",
    "fr = np.zeros_like(r)\n",
    "us = np.zeros_like(s)\n",
    "fr[r==3] = -20e3\n",
    "\n",
    "u, f = fem.solve(k=k_global, s=s,r=r, us=us, fr=fr)"
   ]
  },
  {
   "cell_type": "code",
   "execution_count": 6,
   "id": "ae924d23",
   "metadata": {},
   "outputs": [
    {
     "data": {
      "text/plain": [
       "array([[ 0.        ],\n",
       "       [ 0.        ],\n",
       "       [ 0.0007619 ],\n",
       "       [-0.00384387],\n",
       "       [ 0.00152381],\n",
       "       [ 0.        ],\n",
       "       [ 0.0007619 ],\n",
       "       [-0.0036534 ]])"
      ]
     },
     "execution_count": 6,
     "metadata": {},
     "output_type": "execute_result"
    }
   ],
   "source": [
    "u"
   ]
  },
  {
   "cell_type": "code",
   "execution_count": 7,
   "id": "1a260ba9",
   "metadata": {},
   "outputs": [
    {
     "data": {
      "text/plain": [
       "1.8189894035458565e-11"
      ]
     },
     "execution_count": 7,
     "metadata": {},
     "output_type": "execute_result"
    }
   ],
   "source": []
  },
  {
   "cell_type": "code",
   "execution_count": null,
   "id": "53ab105b",
   "metadata": {},
   "outputs": [],
   "source": []
  }
 ],
 "metadata": {
  "kernelspec": {
   "display_name": "Python 3",
   "language": "python",
   "name": "python3"
  },
  "language_info": {
   "codemirror_mode": {
    "name": "ipython",
    "version": 3
   },
   "file_extension": ".py",
   "mimetype": "text/x-python",
   "name": "python",
   "nbconvert_exporter": "python",
   "pygments_lexer": "ipython3",
   "version": "3.6.8"
  }
 },
 "nbformat": 4,
 "nbformat_minor": 5
}
