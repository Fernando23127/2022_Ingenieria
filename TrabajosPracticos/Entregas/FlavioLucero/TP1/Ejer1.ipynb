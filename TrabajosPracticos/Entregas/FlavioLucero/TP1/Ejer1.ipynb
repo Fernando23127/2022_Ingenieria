{
 "cells": [
  {
   "cell_type": "code",
   "execution_count": null,
   "id": "7f9dad2d-a272-4845-a196-e3d1d8d0fca7",
   "metadata": {},
   "outputs": [],
   "source": []
  },
  {
   "cell_type": "code",
   "execution_count": 1,
   "id": "1e87308e-f66d-420b-aad9-96f73f978e39",
   "metadata": {},
   "outputs": [],
   "source": [
    "#Discretizacion del problema. k=Nx.Ny\n",
    "#vector columna de nx.ny valores.\n",
    "#matriz de 3x3 (para empezar)"
   ]
  },
  {
   "cell_type": "code",
   "execution_count": 2,
   "id": "87be1da2-d3cd-4cd2-98dd-323cd3a60053",
   "metadata": {
    "tags": []
   },
   "outputs": [],
   "source": [
    "import numpy as np   # Importo paquete de álgebra lineal\n",
    "import matplotlib.pyplot as plt   # Importo paquete de gráficos\n",
    "import math   # Importo paquete de funciones matemáticas\n",
    "import random   # Importo paquete para generar números pseudoaleatorios\n",
    "import time"
   ]
  },
  {
   "cell_type": "code",
   "execution_count": 3,
   "id": "fa52cbbb-ce91-4f22-abf0-258ca40d948d",
   "metadata": {},
   "outputs": [],
   "source": [
    "#discretizar el problema\n",
    "Nx= 5\n",
    "Ny= 5\n",
    "T_A,T_C,T_D = (75,50,100)\n",
    "valorescontorno= {'A':75,'B':0,'C':50,'D':100}\n",
    "tipocontorno= {'A':'temp','B':'flujo','C':'temp','D':'temp'}"
   ]
  },
  {
   "cell_type": "code",
   "execution_count": 4,
   "id": "1686b5e1-5bd1-4742-9f06-6b7e6472812f",
   "metadata": {},
   "outputs": [],
   "source": [
    "class Chapa:\n",
    "    \n",
    "    def __init__(self, Nx=3, Ny=3):\n",
    "        self.Nx= Nx\n",
    "        self.Ny =Ny\n",
    "        self.Nk =Nx*Ny\n",
    "        self.beta = Nx/Ny\n",
    "        self.bordeB= np.linspace(0,self.Nx-1,self.Nx).astype(int)\n",
    "        self.bordeD= np.linspace(self.Nk-self.Nx,self.Nx*self.Ny-1,self.Nx).astype(int)\n",
    "        self.bordeA= np.linspace(0,self.Nk-self.Nx,self.Ny).astype(int)\n",
    "        self.bordeC= np.linspace(self.Nx-1,self.Nk-1,self.Ny).astype(int)\n",
    "    def makematrix(self,TempC= valorescontorno,TipoC= tipocontorno):\n",
    "       \n",
    "        self.TempC=TempC\n",
    "        self.TipoC= TipoC\n",
    "        M= np.identity(self.Nx*self.Ny)\n",
    "        b= np.zeros((self.Nx*self.Ny,1))\n",
    "        for k in range(self.Nk):\n",
    "            if k==0:\n",
    "                if self.TipoC['A']=='temp' and self.TipoC['B']=='flujo':\n",
    "                    # Dejo el valor de temperatura.\n",
    "                    b[k] = TempC['A']\n",
    "                elif self.TipoC['A']=='flujo' and self.TipoC['B']=='temp':\n",
    "                    # Dejo el valor de temperatura.\n",
    "                    b[k] = TempC['B']\n",
    "                else:\n",
    "                    # Promedio\n",
    "                    b[k]= (TempC['A']+TempC['B'])/2\n",
    "\n",
    "            elif k==(self.Nx-1):\n",
    "                if self.TipoC['B']=='temp' and self.TipoC['C']=='flujo':\n",
    "                    # Dejo el valor de temperatura.\n",
    "                    b[k] = TempC['B']\n",
    "                elif self.TipoC['B']=='flujo' and self.TipoC['C']=='temp':\n",
    "                    # Dejo el valor de temperatura.\n",
    "                    b[k] = TempC['C']\n",
    "                else:\n",
    "                    b[k]= (TempC['C']+TempC['B'])/2\n",
    "\n",
    "            elif k== (self.Nk-self.Nx):\n",
    "                if self.TipoC['D']=='temp' and self.TipoC['A']=='flujo':\n",
    "                    # Dejo el valor de temperatura.\n",
    "                    b[k] = TempC['D']\n",
    "                elif self.TipoC['D']=='flujo' and self.TipoC['A']=='temp':\n",
    "                    # Dejo el valor de temperatura.\n",
    "                    b[k] = TempC['A']\n",
    "                else:                \n",
    "                    b[k]= (TempC['A']+TempC['D'])/2\n",
    "\n",
    "            elif k==(self.Nk-1):\n",
    "                if self.TipoC['C']=='temp' and self.TipoC['D']=='flujo':\n",
    "                    # Dejo el valor de temperatura.\n",
    "                    b[k] = TempC['C']\n",
    "                elif self.TipoC['C']=='flujo' and self.TipoC['D']=='temp':\n",
    "                    # Dejo el valor de temperatura.\n",
    "                    b[k] = TempC['D']\n",
    "                else:\n",
    "                    b[k]= (TempC['D']+TempC['C'])/2\n",
    "\n",
    "            elif k in self.bordeB:\n",
    "                b[k]= TempC['B']\n",
    "                if self.TipoC['B'] == 'flujo':\n",
    "                    M[k,k]= -2*(1+ self.beta**2)\n",
    "                    M[k,k+1]= 1\n",
    "                    M[k,k-1]= 1\n",
    "                    M[k,k+self.Nx]= 2*self.beta**2\n",
    "                    \n",
    "            elif k in self.bordeD:\n",
    "                b[k]= TempC['D']\n",
    "                if self.TipoC['D'] == 'flujo':\n",
    "                    M[k,k]= -2*(1+ self.beta**2)\n",
    "                    M[k,k-1]= 1\n",
    "                    M[k,k+1]= 1\n",
    "                    M[k,k-self.Nx]= 2*self.beta**2\n",
    "                   \n",
    "            elif k in self.bordeA:\n",
    "                b[k]= TempC['A']\n",
    "                if self.TipoC['A'] == 'flujo':\n",
    "                    M[k,k]= -2*(1+ self.beta**2)\n",
    "                    M[k,k+1]= 2\n",
    "                    M[k,k-self.Nx]= self.beta**2\n",
    "                    M[k,k+self.Nx]= self.beta**2\n",
    "                \n",
    "            elif k in self.bordeC:\n",
    "                b[k]= TempC['C']\n",
    "                if self.TipoC['C'] == 'flujo':\n",
    "                    M[k,k]= -2*(1+ self.beta**2)\n",
    "                    M[k,k-1]= 2\n",
    "                    M[k,k-self.Nx]= self.beta**2\n",
    "                    M[k,k+self.Nx]= self.beta**2\n",
    "            else:\n",
    "                M[k,k]= -2*(1+ self.beta**2)\n",
    "                M[k,k-1]= 1\n",
    "                M[k,k+1]= 1\n",
    "                M[k,k-self.Nx]= self.beta**2\n",
    "                M[k,k+self.Nx]= self.beta**2\n",
    "        self.M=M\n",
    "        self.b=b\n",
    "        return M,b"
   ]
  },
  {
   "cell_type": "code",
   "execution_count": 5,
   "id": "3454c1d5-e64a-412b-9038-9cf9c9ef120d",
   "metadata": {},
   "outputs": [],
   "source": [
    "C=Chapa(Nx,Ny)"
   ]
  },
  {
   "cell_type": "code",
   "execution_count": 6,
   "id": "43484e59-a741-4e99-a177-d931d9e1d38e",
   "metadata": {},
   "outputs": [],
   "source": [
    "M,b= C.makematrix()"
   ]
  },
  {
   "cell_type": "code",
   "execution_count": 7,
   "id": "7d98148d-bafc-4ba1-84b4-32e944a8c806",
   "metadata": {},
   "outputs": [
    {
     "data": {
      "text/plain": [
       "<matplotlib.image.AxesImage at 0x1979f28bd60>"
      ]
     },
     "execution_count": 7,
     "metadata": {},
     "output_type": "execute_result"
    },
    {
     "data": {
      "image/png": "[encoded data removed]",
      "text/plain": [
       "<Figure size 432x288 with 1 Axes>"
      ]
     },
     "metadata": {
      "needs_background": "light"
     },
     "output_type": "display_data"
    }
   ],
   "source": [
    "plt.imshow(M)"
   ]
  },
  {
   "cell_type": "markdown",
   "id": "2aee8dbf-6573-4cb9-8228-f83430fdf070",
   "metadata": {},
   "source": [
    "## Solución"
   ]
  },
  {
   "cell_type": "code",
   "execution_count": 8,
   "id": "4933ad65-6410-4b4d-afe5-3d492af05194",
   "metadata": {},
   "outputs": [],
   "source": [
    "\n",
    "T = np.linalg.solve(M, b)\n",
    "\n",
    "\n",
    "Temp_matriz = T.reshape(Nx, Ny) "
   ]
  },
  {
   "cell_type": "code",
   "execution_count": 9,
   "id": "b63b9ff2-4802-4411-b94f-ee92cfb9b283",
   "metadata": {},
   "outputs": [
    {
     "data": {
      "image/png": "[encoded data removed]",
      "text/plain": [
       "<Figure size 432x288 with 2 Axes>"
      ]
     },
     "metadata": {
      "needs_background": "light"
     },
     "output_type": "display_data"
    }
   ],
   "source": [
    "lvl = np.linspace(50, 100, 11)\n",
    "mapable = plt.contourf(Temp_matriz, levels=lvl)\n",
    "plt.gca().set_aspect('equal')\n",
    "cbar = plt.colorbar(mapable)\n",
    "cbar.set_label('T(°C)')\n",
    "plt.title('Distribución de temperaturas')\n",
    "plt.xlabel('Nx')\n",
    "plt.ylabel('Ny')\n",
    "plt.show()"
   ]
  },
  {
   "cell_type": "markdown",
   "id": "6f5d7399-f859-4247-8830-139d40b06f69",
   "metadata": {},
   "source": [
    "## Flujos"
   ]
  },
  {
   "cell_type": "code",
   "execution_count": 10,
   "id": "ccc0446f-d767-486a-8127-61a5570a30c7",
   "metadata": {},
   "outputs": [],
   "source": [
    "def getheat(T, dx, dy):\n",
    "    # El flujo en cada nodo tendrá una componente \"x\" e \"y\", por lo que uso \"_like\" para que me cree vectores \"Qx\" y \"Qy\" del\n",
    "    # mismo tamaño que \"T\", así podré poner las respectivas componentes en \"x\" e \"y\".\n",
    "    Qx = np.zeros_like(T)\n",
    "    Qy = np.zeros_like(T)\n",
    "    N = len(T)\n",
    "    \n",
    "    for k in range(N):\n",
    "        \n",
    "        # Borde izq. (A)\n",
    "        if k%Nx==0:\n",
    "            # Tomo cociente incremental hacia la derecha, ya que para la izquierda no hay nada y no puedo tomar cociente \n",
    "            # incremental centrado.\n",
    "            Qx[k] = (T[k+1]-T[k])/dx\n",
    "        # Borde der. (C)\n",
    "        elif (k+1)%Nx==0:\n",
    "            # Tomo cociente incremental hacia la izquierda, ya que para la derecha no hay nada y no puedo tomar cociente \n",
    "            # incremental centrado.\n",
    "            Qx[k] = (T[k]-T[k-1])/dx\n",
    "        # Nodos internos y los otros bordes\n",
    "        else:\n",
    "            # Tomo cociente incremental centrado, ya que tengo elementos a izquierda y derecha.\n",
    "            Qx[k] = (T[k+1]-T[k-1])/(2*dx)\n",
    "            \n",
    "    for k in range (N):\n",
    "        \n",
    "        # Borde inf. (B)\n",
    "        if k<Nx-1:\n",
    "            # Tomo cociente incremental hacia arriba, ya que para abajo no hay nada y no puedo tomar cociente \n",
    "            # incremental centrado.\n",
    "            Qy[k] = (T[k+Nx]-T[k])/dy \n",
    "        # Borde sup. (D)\n",
    "        elif k>Nx*(Ny-1)-1:\n",
    "            # Tomo cociente incremental hacia abajo, ya que para arriba no hay nada y no puedo tomar cociente \n",
    "            # incremental centrado.\n",
    "            Qy[k] = (T[k]-T[k-Nx])/dy\n",
    "        # Nodos internos y los otros bordes\n",
    "        else:\n",
    "            # Tomo cociente incremental centrado, ya que tengo elementos abajo y arriba.\n",
    "            Qy[k] = (T[k+Nx]-T[k-Nx])/(2*dy)\n",
    "    \n",
    "    return Qx, Qy"
   ]
  },
  {
   "cell_type": "code",
   "execution_count": 11,
   "id": "f92840a0-b866-44f6-8902-31ee8aa3d9eb",
   "metadata": {},
   "outputs": [],
   "source": [
    "#longitud de los intervalos\n",
    "dx = 1/(Nx-1)\n",
    "dy = 1/(Ny-1)\n",
    "\n",
    "Qx, Qy = getheat(T, dx, dy)"
   ]
  },
  {
   "cell_type": "code",
   "execution_count": 12,
   "id": "3eebafd6-b8a3-4628-abbd-74dbea614a2c",
   "metadata": {},
   "outputs": [],
   "source": [
    "# Defino grilla de tamaño \"Nx*Ny\", con espaciados de \"1\" tanto en el eje x como en el eje y.\n",
    "x = np.arange(Nx)\n",
    "y = np.arange(Ny)\n",
    "X, Y = np.meshgrid(x, y)\n",
    "\n",
    "# Tomo los vectores \"Qx\" y \"Qy\" y los convierto en matrices de tamaño \"Nx*Ny\", para que vayan de 0 a Nx-1 en el eje x, y de 0\n",
    "# a Ny-1 en el eje y (sino a este último lo haría de Ny-1 a 0 y graficaría MAL).\n",
    "Qx_matriz = Qx.reshape(Nx, Ny)\n",
    "Qy_matriz = Qy.reshape(Nx, Ny)"
   ]
  },
  {
   "cell_type": "code",
   "execution_count": 13,
   "id": "425cc98c-3c7f-492c-9e08-3693cdf2edbf",
   "metadata": {},
   "outputs": [
    {
     "data": {
      "image/png": "[encoded data removed]",
      "text/plain": [
       "<Figure size 432x288 with 2 Axes>"
      ]
     },
     "metadata": {
      "needs_background": "light"
     },
     "output_type": "display_data"
    }
   ],
   "source": [
    "mapable = plt.contourf(Temp_matriz, levels=lvl)\n",
    "plt.streamplot(X, Y, -Qx_matriz, -Qy_matriz, color='k', density=0.6)\n",
    "plt.gca().set_aspect('equal')\n",
    "cbar = plt.colorbar(mapable)\n",
    "cbar.set_label('T(°C)')\n",
    "plt.title('Distribución de temperaturas y flujos')\n",
    "plt.xlabel('Nx')\n",
    "plt.ylabel('Ny')\n",
    "plt.axis([0, Nx-2, 0, Ny-2])   # Sino me deja líneas en blanco, muy raro.\n",
    "plt.show()"
   ]
  },
  {
   "cell_type": "markdown",
   "id": "a88b5e94-192c-4e2e-a0ab-4a87653cdcb6",
   "metadata": {
    "tags": []
   },
   "source": [
    "## Tiempo de cálculo"
   ]
  },
  {
   "cell_type": "code",
   "execution_count": null,
   "id": "63acb564-5a54-4df5-aade-93ea39a730ee",
   "metadata": {},
   "outputs": [],
   "source": []
  },
  {
   "cell_type": "code",
   "execution_count": 14,
   "id": "44793075-2cf2-454c-ab91-242f3ab8bdab",
   "metadata": {},
   "outputs": [],
   "source": [
    "Ns = np.arange(3, 100, 6)\n",
    "ts = []"
   ]
  },
  {
   "cell_type": "code",
   "execution_count": 15,
   "id": "ac9b1255-fe7c-4d8e-8e96-44f53c80390f",
   "metadata": {},
   "outputs": [],
   "source": [
    "for Ni in Ns:\n",
    "    chapa_i = Chapa(Ni, Ni)\n",
    "    M, b = chapa_i.makematrix(valorescontorno, tipocontorno)\n",
    "    t_1 = time.time()\n",
    "    T = np.linalg.solve(M, b)\n",
    "    T_matriz = T.reshape(Ni, Ni)\n",
    "    t_2 = time.time()\n",
    "    ts.append(t_2-t_1)"
   ]
  },
  {
   "cell_type": "code",
   "execution_count": 16,
   "id": "7b481358-1912-474b-9d16-6e5a986708ed",
   "metadata": {},
   "outputs": [
    {
     "data": {
      "image/png": "[encoded data removed]",
      "text/plain": [
       "<Figure size 432x288 with 1 Axes>"
      ]
     },
     "metadata": {
      "needs_background": "light"
     },
     "output_type": "display_data"
    }
   ],
   "source": [
    "plt.plot(Ns[2:], ts[2:], 'og', ms=7)\n",
    "plt.xlabel('Tamaño del sistema (Nx)')\n",
    "plt.ylabel('Tiempo (s)')\n",
    "plt.grid('on')\n",
    "plt.axis([-5, 120, -0.1, 7])\n",
    "plt.show()"
   ]
  }
 ],
 "metadata": {
  "kernelspec": {
   "display_name": "Python 3 (ipykernel)",
   "language": "python",
   "name": "python3"
  },
  "language_info": {
   "codemirror_mode": {
    "name": "ipython",
    "version": 3
   },
   "file_extension": ".py",
   "mimetype": "text/x-python",
   "name": "python",
   "nbconvert_exporter": "python",
   "pygments_lexer": "ipython3",
   "version": "3.9.10"
  }
 },
 "nbformat": 4,
 "nbformat_minor": 5
}
