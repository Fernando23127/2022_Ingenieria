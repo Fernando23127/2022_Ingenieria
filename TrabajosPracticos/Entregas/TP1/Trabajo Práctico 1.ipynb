{
 "cells": [
  {
   "cell_type": "markdown",
   "id": "cac60064-0db6-4c79-8d89-6d836342b67f",
   "metadata": {},
   "source": [
    "Problema 1:\n",
    "\n",
    "Se tiene una placa cuadrada de aluminio cuyos bordes están en las condiciones que se\n",
    "indican en la figura: tres lados a temperaturas fijas y otro, el inferior, aislado térmicamente\n",
    "(flujo de calor igual a cero). Encuentre, utilizando el método de diferencias finitas, los\n",
    "valores de temperatura y flujo de calor para cada punto. Utilice primero la grilla señalada y\n",
    "luego generalice el problema a un número variable de nodos en cada eje de coordenadas.\n",
    "Haga un estudio del tiempo de cálculo en función del tamaño del sistema.\n",
    "\n"
   ]
  },
  {
   "cell_type": "markdown",
   "id": "4c563877-856c-4c4b-ac1d-1240f50540fe",
   "metadata": {},
   "source": [
    "<img src=\"Enunciado 1.png\" align=\"center\">"
   ]
  },
  {
   "cell_type": "code",
   "execution_count": 1,
   "id": "5a6503b0-ba7b-4ad2-8bee-625bd9b35d91",
   "metadata": {},
   "outputs": [],
   "source": [
    "import numpy as np\n",
    "import matplotlib.pyplot as plt\n",
    "import time"
   ]
  },
  {
   "cell_type": "code",
   "execution_count": 2,
   "id": "15bcc19a-c22f-4dff-ad4e-117772d73b03",
   "metadata": {},
   "outputs": [],
   "source": [
    "Nx=10\n",
    "Ny=10\n",
    "beta=Nx/Ny\n",
    "Ta,Tb,Tc,Td=(75,0,50,100)\n",
    "M=np.identity(Nx*Ny)\n",
    "b=np.zeros((Nx*Ny,1))"
   ]
  },
  {
   "cell_type": "code",
   "execution_count": 3,
   "id": "2cc41fba-b6e4-44f1-88f5-49efa30cb50b",
   "metadata": {},
   "outputs": [],
   "source": [
    "Nk=Nx*Ny\n",
    "for k in range(Nk):\n",
    "    #Pregunto si estoy en un vértice:\n",
    "    #Estructuras if/elseif - Parto de lo mas particular ahcia lo mas general.\n",
    "    if k==0:\n",
    "        #Vale el promedio:\n",
    "        b[k]=(Ta+Tb)/2\n",
    "        #vertice1\n",
    "    elif k==(Nx-1):\n",
    "        b[k]=(Tb+Tc)/2\n",
    "        #vertice2\n",
    "    elif k==(Nk-Nx):\n",
    "        b[k]=(Ta+Td)/2\n",
    "        #vertice3\n",
    "    elif k==(Nk-1):\n",
    "        b[k]=(Tc+Td)/2\n",
    "        #vertice4\n",
    "    #Pregunto si estoy en un borde,sin los vértices:\n",
    "    elif k<(Nx-1):\n",
    "        b[k]=Tb\n",
    "        #BordeB\n",
    "    elif k>(Nk-Nx):\n",
    "        b[k]=Td\n",
    "        #BordeD\n",
    "    #Los indices de los bordes son multiplos de Nx\n",
    "    #Miro que el resto de la division sea 0\n",
    "    elif k%Nx==0:\n",
    "        b[k]=Ta\n",
    "        #BordeA\n",
    "    elif (k+1)%Nx==0:\n",
    "        b[k]=Tc\n",
    "        #BordeC\n",
    "    #Interior de la grilla, b ya lo tengo armo la matriz:\n",
    "    else:\n",
    "        M[k,k]=-2*(1+beta**2)\n",
    "        M[k,k-1]=1\n",
    "        M[k,k+1]=1\n",
    "        M[k,k-Nx]=beta**2\n",
    "        M[k,k+Nx]=beta**2\n",
    "        #Interior matriz"
   ]
  },
  {
   "cell_type": "code",
   "execution_count": 4,
   "id": "75a635ef-f620-4c61-acf3-d89b64cee7e3",
   "metadata": {},
   "outputs": [
    {
     "name": "stdout",
     "output_type": "stream",
     "text": [
      "[[1. 0. 0. ... 0. 0. 0.]\n",
      " [0. 1. 0. ... 0. 0. 0.]\n",
      " [0. 0. 1. ... 0. 0. 0.]\n",
      " ...\n",
      " [0. 0. 0. ... 1. 0. 0.]\n",
      " [0. 0. 0. ... 0. 1. 0.]\n",
      " [0. 0. 0. ... 0. 0. 1.]]\n"
     ]
    }
   ],
   "source": [
    "print(M)\n",
    "#imposible leer matrices gigantes"
   ]
  },
  {
   "cell_type": "code",
   "execution_count": 5,
   "id": "f85dc531-3b18-48a5-b0ec-696cc48beed5",
   "metadata": {},
   "outputs": [
    {
     "data": {
      "text/plain": [
       "<matplotlib.image.AxesImage at 0x279c9e79cd0>"
      ]
     },
     "execution_count": 5,
     "metadata": {},
     "output_type": "execute_result"
    },
    {
     "data": {
      "image/png": "[encoded data removed]",
      "text/plain": [
       "<Figure size 432x288 with 1 Axes>"
      ]
     },
     "metadata": {
      "needs_background": "light"
     },
     "output_type": "display_data"
    }
   ],
   "source": [
    "plt.imshow(M)\n",
    "#Matriz del sistema lineal, no de T."
   ]
  },
  {
   "cell_type": "code",
   "execution_count": 6,
   "id": "c8edd5af-544e-4973-af55-4aab045e60d7",
   "metadata": {},
   "outputs": [],
   "source": [
    "Temp=np.linalg.solve(M,b)"
   ]
  },
  {
   "cell_type": "code",
   "execution_count": 7,
   "id": "eb552e4b-e717-44b0-ae98-a647ece8b5de",
   "metadata": {},
   "outputs": [],
   "source": [
    "#Tengo un  vector (k), quiero volver a la matriz de indices originales i,j\n",
    "Temp_ij=Temp.reshape(Nx,Ny)"
   ]
  },
  {
   "cell_type": "code",
   "execution_count": 8,
   "id": "cc855c6a-367e-4b50-b1df-d8878963779b",
   "metadata": {},
   "outputs": [
    {
     "data": {
      "text/plain": [
       "Text(0.5, 1.0, 'Distribución de Temperaturas')"
      ]
     },
     "execution_count": 8,
     "metadata": {},
     "output_type": "execute_result"
    },
    {
     "data": {
      "image/png": "[encoded data removed]",
      "text/plain": [
       "<Figure size 432x288 with 2 Axes>"
      ]
     },
     "metadata": {
      "needs_background": "light"
     },
     "output_type": "display_data"
    }
   ],
   "source": [
    "mappable=plt.imshow(Temp_ij, origin='lower')\n",
    "plt.colorbar(mappable)\n",
    "plt.xlabel('x')\n",
    "plt.ylabel('y')\n",
    "plt.title('Distribución de Temperaturas')"
   ]
  },
  {
   "cell_type": "code",
   "execution_count": 9,
   "id": "bfdbb2a7-63d6-4246-b104-fb1585ccb529",
   "metadata": {},
   "outputs": [],
   "source": [
    "def makematrix(Nx,Ny,CC,TipoCC):\n",
    "    \"\"\"\n",
    "    Nx:Numero de nodos en x\n",
    "    Ny:Numero de nodos en y\n",
    "    CC: 'A' 'B' 'C' 'D'\n",
    "    TipoCC: 'Flujo' o 'Temp'\n",
    "    \"\"\"\n",
    "    N=Nx*Ny\n",
    "    beta=Nx/Ny\n",
    "    M=np.eye(N)\n",
    "    b=np.zeros([N,1])\n",
    "    for k in range(N):\n",
    "        #Vertice AB\n",
    "        if k==0:\n",
    "            if TipoCC['A']=='Flujo' and TipoCC['B']=='Temp':\n",
    "                b[k]=CC['A'] #si tengo condición mixta, asigno al vértice la T\n",
    "            elif TipoCC['A']=='Temp' and TipoCC['B']=='Flujo':\n",
    "                b[k]=CC['B']\n",
    "            else: #dos condiciones de flujo no voy a tener, asique si ambas son T asigno el promedio\n",
    "                b[k]=(CC['A']+CC['B'])/2\n",
    "        #Vértice BC\n",
    "        elif k==Nx-1:\n",
    "            if TipoCC['B']=='Flujo' and TipoCC['C']=='Temp':\n",
    "                b[k]=CC['C'] #si tengo condición mixta, asigno al vértice la T\n",
    "            elif TipoCC['B']=='Temp' and TipoCC['C']=='Flujo':\n",
    "                b[k]=CC['C']\n",
    "            else:\n",
    "                b[k]=(CC['B']+CC['C'])/2\n",
    "        #Vértice CD\n",
    "        elif k==N-1:\n",
    "            if TipoCC['C']=='Flujo' and TipoCC['D']=='Temp':\n",
    "                b[k]=CC['D'] #si tengo condición mixta, asigno al vértice la T\n",
    "            elif TipoCC['C']=='Temp' and TipoCC['D']=='Flujo':\n",
    "                b[k]=CC['C']\n",
    "            else :\n",
    "                b[k]=(CC['C']+CC['D'])/2\n",
    "        #Vértice AD\n",
    "        elif k==N-Nx:\n",
    "            if TipoCC['A']=='Flujo' and TipoCC['D']=='Temp':\n",
    "                b[k]=CC['D'] #si tengo condición mixta, asigno al vértice la T\n",
    "            elif TipoCC['D']=='Temp' and TipoCC['A']=='Flujo':\n",
    "                b[k]=CC['D']\n",
    "            else :\n",
    "                b[k]=(CC['A']+CC['D'])/2\n",
    "        #Borde A:\n",
    "        elif k%Nx==0: #si k es multiplo de Nx\n",
    "            if TipoCC['A']=='Temp':\n",
    "                b[k]=CC['A']\n",
    "            elif TipoCC['A']=='Flujo':\n",
    "                #b[k]=0, ya es cero, tengo flujo quiero T, armo la matriz\n",
    "                M[k,k]=-2*(1+beta**2)\n",
    "                M[k,k-1]=0\n",
    "                M[k,k+1]=2\n",
    "                M[k,k+Nx]=beta**2\n",
    "                M[k,k-Nx]=beta**2\n",
    "        #Borde B:\n",
    "        elif k<Nx: \n",
    "            if TipoCC['B']=='Temp':\n",
    "                b[k]=CC['B']\n",
    "            elif TipoCC['B']=='Flujo':\n",
    "                #b[k]=0, ya es cero, tengo flujo quiero T, armo la matriz\n",
    "                M[k,k]=-2*(1+beta**2)\n",
    "                M[k,k-1]=1\n",
    "                M[k,k+1]=1\n",
    "                M[k,k-Nx]=0\n",
    "                M[k,k+Nx]=2*beta**2\n",
    "            #BordeC\n",
    "        elif (k+1)%Nx==0: #si k es multiplo de Nx\n",
    "            if TipoCC['C']=='Temp':\n",
    "                b[k]=CC['C']\n",
    "            elif TipoCC['C']=='Flujo':\n",
    "                #b[k]=0, ya es cero, tengo flujo quiero T, armo la matriz\n",
    "                M[k,k]=-2*(1+beta**2)\n",
    "                M[k,k-1]=2\n",
    "                M[k,k+1]=0\n",
    "                M[k,k+Nx]=beta**2\n",
    "                M[k,k-Nx]=beta**2\n",
    "            #BordeD\n",
    "        elif (k<N-1) and (k>N-Nx): #si k es multiplo de Nx\n",
    "            if TipoCC['D']=='Temp':\n",
    "                b[k]=CC['D']\n",
    "            elif TipoCC['D']=='Flujo':\n",
    "                #b[k]=0, ya es cero, lo inicialice asi.Tengo flujo quiero T, armo la matriz\n",
    "                M[k,k]=-2*(1+beta**2)\n",
    "                M[k,k-1]=1\n",
    "                M[k,k+1]=1\n",
    "                M[k,k-Nx]=2*beta**2\n",
    "        else:\n",
    "            M[k,k]=-2*(1+beta**2)\n",
    "            M[k,k-1]=1\n",
    "            M[k,k+1]=1\n",
    "            M[k,k+Nx]=beta**2\n",
    "            M[k,k-Nx]=beta**2\n",
    "    return M,b"
   ]
  },
  {
   "cell_type": "code",
   "execution_count": 10,
   "id": "83cc1305-9343-40cb-95d5-c9789d8234a9",
   "metadata": {},
   "outputs": [],
   "source": [
    "CC = {'A':75,'B':0,'C':50, 'D':100}\n",
    "TipoCC = {'A':'Temp','B':'Temp','C':'Temp','D':'Temp'}\n",
    "Nx=50\n",
    "Ny=50"
   ]
  },
  {
   "cell_type": "code",
   "execution_count": 11,
   "id": "aee5304d-41f0-4b7e-9c38-43b0d51edf2f",
   "metadata": {},
   "outputs": [],
   "source": [
    "M,b=makematrix(Nx,Ny,CC,TipoCC)\n",
    "T=np.linalg.solve(M,b)"
   ]
  },
  {
   "cell_type": "code",
   "execution_count": 12,
   "id": "c5b062ed-8c87-4b55-b891-fc13d4e8d3f5",
   "metadata": {},
   "outputs": [
    {
     "data": {
      "text/plain": [
       "Text(0, 0.5, 'j')"
      ]
     },
     "execution_count": 12,
     "metadata": {},
     "output_type": "execute_result"
    },
    {
     "data": {
      "image/png": "[encoded data removed]",
      "text/plain": [
       "<Figure size 432x288 with 2 Axes>"
      ]
     },
     "metadata": {
      "needs_background": "light"
     },
     "output_type": "display_data"
    },
    {
     "data": {
      "image/png": "[encoded data removed]",
      "text/plain": [
       "<Figure size 432x288 with 2 Axes>"
      ]
     },
     "metadata": {
      "needs_background": "light"
     },
     "output_type": "display_data"
    }
   ],
   "source": [
    "T_plot = T.reshape((Nx,Ny)) \n",
    "algo = plt.imshow(T_plot, origin= 'lower')\n",
    "plt.colorbar()\n",
    "fig, ax = plt.subplots()\n",
    "mappable = ax.contourf(T_plot)\n",
    "levels = ax.contour(T_plot, colors='k', linewidths=3)\n",
    "cbar = plt.colorbar(mappable)\n",
    "cbar.set_label('T (ºC)')\n",
    "ax.clabel(levels, )\n",
    "ax.set_xlabel('i')\n",
    "ax.set_ylabel('j')"
   ]
  },
  {
   "cell_type": "code",
   "execution_count": 13,
   "id": "1400bc12-5af1-498b-b5a0-99f1214c0a67",
   "metadata": {},
   "outputs": [],
   "source": [
    "N = 15\n",
    "Enes=np.linspace(3,100,N).astype(int)\n",
    "t0=np.zeros((N,1))\n",
    "tf=np.zeros((N,1))\n",
    "for i in range (N):\n",
    "    t0[i] = time.time()\n",
    "    M,b=makematrix(Enes[i],Enes[i],CC,TipoCC)\n",
    "    T=np.linalg.solve(M,b)\n",
    "    tf[i]=time.time()\n",
    "t=tf-t0"
   ]
  },
  {
   "cell_type": "code",
   "execution_count": 14,
   "id": "78e39fe8-55a8-44e6-a8b9-b71ae9ecdfc3",
   "metadata": {},
   "outputs": [
    {
     "data": {
      "text/plain": [
       "Text(0.5, 1.0, 'Tiempo de cálculo')"
      ]
     },
     "execution_count": 14,
     "metadata": {},
     "output_type": "execute_result"
    },
    {
     "data": {
      "image/png": "[encoded data removed]",
      "text/plain": [
       "<Figure size 432x288 with 1 Axes>"
      ]
     },
     "metadata": {
      "needs_background": "light"
     },
     "output_type": "display_data"
    }
   ],
   "source": [
    "plt.plot(Enes,t, 'ok')\n",
    "plt.xlabel('N° nodos')\n",
    "plt.ylabel('t')\n",
    "plt.title('Tiempo de cálculo')\n"
   ]
  },
  {
   "cell_type": "markdown",
   "id": "b872e69b-4b22-4021-9801-9bcdf91451ad",
   "metadata": {},
   "source": [
    "Problema 2:\n",
    "\n",
    "Considere el entramado mostrado en la figura, con una fuerza aplicada de 20 kN. Calcule\n",
    "los desplazamientos de cada uno de los nodos y las tensiones que sufre cada elemento.\n",
    "Todos los elementos tienen E = 210 GPa y una sección de 10 cm2, excepto el elemento 3,\n",
    "que tiene una sección de 20 cm2. Los elementos 2 y 5 tienen una longitud de 8 metros y\n",
    "el elemento 3 de 4 metros"
   ]
  },
  {
   "cell_type": "markdown",
   "id": "f9419e92-8a5a-4add-8279-bfcfc97d630d",
   "metadata": {},
   "source": [
    "<img src=\"Enunciado 2.png\" align=\"center\">"
   ]
  },
  {
   "cell_type": "code",
   "execution_count": 15,
   "id": "e8808935-fe35-421d-83e2-e40ca7aaee3a",
   "metadata": {},
   "outputs": [],
   "source": [
    "MN=np.array([[0,0],[8,0],[16,0],[8,4]])\n",
    "MC=np.array([[0,3],[0,1],[1,3],[2,3],[1,2]])\n",
    "E=np.array([210,210,210,210,210])*1E9\n",
    "A=np.array([10,10,20,10,10])*1E-4\n",
    "NN = MN.shape[0] #cantidad de nodos\n",
    "NE,NNXE = MC.shape #numero de elementos y numero de nodos por elemento\n",
    "GLXN=2 #grados de libertad por nodo\n",
    "KGlobal = np.zeros([NNXE*GLXN,NNXE*GLXN])"
   ]
  },
  {
   "cell_type": "code",
   "execution_count": 16,
   "id": "6055aa69-7a49-445c-80f8-59170ca2bf6a",
   "metadata": {},
   "outputs": [],
   "source": [
    "def Kelemental_Barra (MN,MC,Ae,Ee,e):\n",
    "    \"\"\"\n",
    "    MN:Matriz de nodos\n",
    "    MC:Matriz de conectividad\n",
    "    A:Area del elemento (np.array)\n",
    "    E:Modulo de Young del elemento (np.array)\n",
    "    e:Elemento\n",
    "    \"\"\"\n",
    "    Nodo1 = MC[e,0]\n",
    "    Nodo2 = MC[e,1]\n",
    "    LonX = MN[Nodo2,0]-MN[Nodo1,0]\n",
    "    LonY = MN[Nodo2,1]-MN[Nodo1,1]\n",
    "    L=np.sqrt(LonX**2+LonY**2)\n",
    "    Ang = np.arctan2(LonY,LonX)\n",
    "    Kel = Ee*Ae/L\n",
    "    c=np.cos(Ang)\n",
    "    s=np.sin(Ang)\n",
    "    Kelemental=np.array([[c**2,c*s,-c**2,-c*s],\n",
    "                         [c*s,s**2,-c*s,-s**2],\n",
    "                         [-c**2,-c*s,c**2,c*s],\n",
    "                         [-c*s,-s**2,c*s,s**2]])*Kel\n",
    "    return Kelemental"
   ]
  },
  {
   "cell_type": "code",
   "execution_count": 17,
   "id": "01e59dd8-7801-406b-a93e-ccaa8b20036b",
   "metadata": {},
   "outputs": [],
   "source": [
    "def KGlobal(MN, MC, E, A, GLXN):\n",
    "    K_Global = np.zeros([GLXN*NN, GLXN*NN])    \n",
    "    for e in range(NE):#Para cada elemento calculo la Kelemental\n",
    "        Ee = E[e]\n",
    "        Ae = A[e]\n",
    "        Ke = Kelemental_Barra(MN, MC, Ee, Ae, e)\n",
    "        print(Ke/np.max(Ke))\n",
    "        for i in range(NNXE):\n",
    "            rangoi = np.linspace(i*GLXN, (i+1)*GLXN-1, NNXE).astype(int)\n",
    "            rangoni = np.linspace(MC[e, i]*GLXN, (MC[e, i]+1)*GLXN-1, NNXE).astype(int)\n",
    "            for j in range(NNXE):\n",
    "                rangoj = np.linspace(j*GLXN, (j+1)*GLXN-1, NNXE).astype(int)\n",
    "                rangonj = np.linspace(MC[e, j]*GLXN, (MC[e, j]+1)*GLXN-1, NNXE).astype(int)\n",
    "                K_Global[np.ix_(rangoni, rangonj)] += Ke[np.ix_(rangoi, rangoj)]\n",
    "    return K_Global"
   ]
  },
  {
   "cell_type": "code",
   "execution_count": 18,
   "id": "f5785ba7-7a21-4197-8f38-ba0457c1a9be",
   "metadata": {},
   "outputs": [
    {
     "name": "stdout",
     "output_type": "stream",
     "text": [
      "[[ 1.    0.5  -1.   -0.5 ]\n",
      " [ 0.5   0.25 -0.5  -0.25]\n",
      " [-1.   -0.5   1.    0.5 ]\n",
      " [-0.5  -0.25  0.5   0.25]]\n",
      "[[ 1.  0. -1. -0.]\n",
      " [ 0.  0. -0. -0.]\n",
      " [-1. -0.  1.  0.]\n",
      " [-0. -0.  0.  0.]]\n",
      "[[ 3.74939946e-33  6.12323400e-17 -3.74939946e-33 -6.12323400e-17]\n",
      " [ 6.12323400e-17  1.00000000e+00 -6.12323400e-17 -1.00000000e+00]\n",
      " [-3.74939946e-33 -6.12323400e-17  3.74939946e-33  6.12323400e-17]\n",
      " [-6.12323400e-17 -1.00000000e+00  6.12323400e-17  1.00000000e+00]]\n",
      "[[ 1.   -0.5  -1.    0.5 ]\n",
      " [-0.5   0.25  0.5  -0.25]\n",
      " [-1.    0.5   1.   -0.5 ]\n",
      " [ 0.5  -0.25 -0.5   0.25]]\n",
      "[[ 1.  0. -1. -0.]\n",
      " [ 0.  0. -0. -0.]\n",
      " [-1. -0.  1.  0.]\n",
      " [-0. -0.  0.  0.]]\n",
      "[[ 3.93674152e-01  8.20995152e-02 -2.29475121e-01  0.00000000e+00\n",
      "   0.00000000e+00  0.00000000e+00 -1.64199030e-01 -8.20995152e-02]\n",
      " [ 8.20995152e-02  4.10497576e-02  0.00000000e+00  0.00000000e+00\n",
      "   0.00000000e+00  0.00000000e+00 -8.20995152e-02 -4.10497576e-02]\n",
      " [-2.29475121e-01  0.00000000e+00  4.58950242e-01  5.62051945e-17\n",
      "  -2.29475121e-01  0.00000000e+00 -3.44157558e-33 -5.62051945e-17]\n",
      " [ 0.00000000e+00  0.00000000e+00  5.62051945e-17  9.17900485e-01\n",
      "   0.00000000e+00  0.00000000e+00 -5.62051945e-17 -9.17900485e-01]\n",
      " [ 0.00000000e+00  0.00000000e+00 -2.29475121e-01  0.00000000e+00\n",
      "   3.93674152e-01 -8.20995152e-02 -1.64199030e-01  8.20995152e-02]\n",
      " [ 0.00000000e+00  0.00000000e+00  0.00000000e+00  0.00000000e+00\n",
      "  -8.20995152e-02  4.10497576e-02  8.20995152e-02 -4.10497576e-02]\n",
      " [-1.64199030e-01 -8.20995152e-02 -3.44157558e-33 -5.62051945e-17\n",
      "  -1.64199030e-01  8.20995152e-02  3.28398061e-01  1.62830751e-17]\n",
      " [-8.20995152e-02 -4.10497576e-02 -5.62051945e-17 -9.17900485e-01\n",
      "   8.20995152e-02 -4.10497576e-02  1.62830751e-17  1.00000000e+00]]\n"
     ]
    }
   ],
   "source": [
    "KG=KGlobal(MN,MC,E,A,GLXN)\n",
    "print(KG/np.max(KG))"
   ]
  },
  {
   "cell_type": "code",
   "execution_count": 19,
   "id": "418db899-dc16-4fa9-a45b-e1d321a1028b",
   "metadata": {},
   "outputs": [],
   "source": [
    "def solve(KGlobal, s,r, Us, Fr):\n",
    "    N = KGlobal.shape[1]\n",
    "    F = np.zeros([NN*GLXN, 1])\n",
    "    U = np.zeros([NN*GLXN, 1])\n",
    "    U[s] = np.transpose([Us])\n",
    "    F[r] = np.transpose([Fr])\n",
    "\n",
    "    KRed = KGlobal[np.ix_(r,r)]\n",
    "    KVin = KGlobal[np.ix_(r,s)]\n",
    "    U[r] = np.linalg.solve(KRed, F[r]-KVin.dot(U[s]))\n",
    "    F[s] = KGlobal[s,:].dot(U)\n",
    "\n",
    "    return U,F"
   ]
  },
  {
   "cell_type": "code",
   "execution_count": 20,
   "id": "58130ccf-d7ab-4af8-b9f1-29a301184764",
   "metadata": {},
   "outputs": [],
   "source": [
    "s=np.array([0,1,5])\n",
    "r = np.array([i for i in range(NN*GLXN) if i not in s])\n",
    "Us=np.zeros_like(s)#toma dim r y me hace zeros\n",
    "Fr=np.zeros_like(r)\n",
    "Fr[r==3]=-20E3\n",
    "U, F = solve(KG, s,r, Us, Fr)"
   ]
  },
  {
   "cell_type": "code",
   "execution_count": 21,
   "id": "d3a89f15-27bc-4140-8ba1-69e068c44dff",
   "metadata": {},
   "outputs": [],
   "source": [
    "#Busco las tensiones"
   ]
  },
  {
   "cell_type": "code",
   "execution_count": 22,
   "id": "e0855cad-50ff-451c-a85f-bc78fca9d715",
   "metadata": {},
   "outputs": [],
   "source": [
    "UMat=U.reshape(NN,GLXN) #Matriz donde cada fila es un nodo, y cxada columna sus GL"
   ]
  },
  {
   "cell_type": "code",
   "execution_count": 26,
   "id": "b5b44e6c-81b9-4aef-87b6-190490df7b42",
   "metadata": {},
   "outputs": [],
   "source": [
    "#Agrupo en MNF las posiciones finales de los nodos sumandole a la matriz de nodos, que tiene las posiciones de los mismos, los desplazamientos calculados\n",
    "MNF=MN+UMat"
   ]
  },
  {
   "cell_type": "code",
   "execution_count": 27,
   "id": "50e69e27-abf1-48d4-8f35-31989444ee8f",
   "metadata": {},
   "outputs": [],
   "source": [
    "Sigma=np.zeros([NE,1])"
   ]
  },
  {
   "cell_type": "code",
   "execution_count": 31,
   "id": "1d63a0b1-98b4-4e52-af54-9543f5c0dc58",
   "metadata": {},
   "outputs": [],
   "source": [
    "for e in range(NE):\n",
    "    L0=np.sqrt((MN[MC[e,1],0]-MN[MC[e,0],0])**2+(MN[MC[e,1],1]-MN[MC[e,0],1])**2)\n",
    "    Lf=np.sqrt((MNF[MC[e,1],0]-MNF[MC[e,0],0])**2+(MNF[MC[e,1],1]-MNF[MC[e,0],1])**2)\n",
    "    DEF=Lf-L0\n",
    "    Sigma[e]=E[e]*DEF"
   ]
  },
  {
   "cell_type": "code",
   "execution_count": 33,
   "id": "1dcf49c3-09a3-4fb1-8510-657dfd4661d8",
   "metadata": {},
   "outputs": [
    {
     "name": "stdout",
     "output_type": "stream",
     "text": [
      "[[-1.99847128e+08]\n",
      " [ 1.60193908e+08]\n",
      " [ 4.00000000e+07]\n",
      " [-1.99847128e+08]\n",
      " [ 1.60193908e+08]]\n"
     ]
    }
   ],
   "source": [
    "print(Sigma)"
   ]
  },
  {
   "cell_type": "code",
   "execution_count": null,
   "id": "0ba41ae1-50dc-4c87-a766-cab744c06513",
   "metadata": {},
   "outputs": [],
   "source": []
  }
 ],
 "metadata": {
  "kernelspec": {
   "display_name": "Python 3 (ipykernel)",
   "language": "python",
   "name": "python3"
  },
  "language_info": {
   "codemirror_mode": {
    "name": "ipython",
    "version": 3
   },
   "file_extension": ".py",
   "mimetype": "text/x-python",
   "name": "python",
   "nbconvert_exporter": "python",
   "pygments_lexer": "ipython3",
   "version": "3.9.10"
  }
 },
 "nbformat": 4,
 "nbformat_minor": 5
}
